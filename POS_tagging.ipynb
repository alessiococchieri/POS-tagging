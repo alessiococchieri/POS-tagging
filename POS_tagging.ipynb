{
 "cells": [
  {
   "cell_type": "markdown",
   "id": "c-vcayJk54ZB",
   "metadata": {
    "id": "c-vcayJk54ZB"
   },
   "source": [
    "**TABLE OF CONTENTS**"
   ]
  },
  {
   "cell_type": "code",
   "execution_count": 1,
   "id": "f602d7d2",
   "metadata": {
    "id": "f602d7d2"
   },
   "outputs": [],
   "source": [
    "# The libraries we will use are imported here, in case of runtime problems\n",
    "import os, shutil  #  file management\n",
    "import sys \n",
    "import pandas as pd  #  dataframe management\n",
    "import numpy as np  #  data manipulation\n",
    "import tensorflow as tf\n",
    "import matplotlib.pyplot as plt\n",
    "import seaborn as sns\n",
    "import sklearn as sk\n",
    "import scipy as sp\n",
    "from tensorflow import keras\n",
    "from keras.utils.vis_utils import plot_model\n",
    "from keras.utils.np_utils import to_categorical\n",
    "from sklearn.metrics import classification_report\n",
    "from tensorflow.keras.preprocessing.sequence import pad_sequences"
   ]
  },
  {
   "cell_type": "code",
   "execution_count": 2,
   "id": "4b7ab562",
   "metadata": {
    "id": "4b7ab562"
   },
   "outputs": [],
   "source": [
    "# Random seed to repeat experiments.\n",
    "np.random.seed(42)\n",
    "tf.random.set_seed(42)"
   ]
  },
  {
   "cell_type": "markdown",
   "id": "tpCXxvlffkP-",
   "metadata": {
    "id": "tpCXxvlffkP-"
   },
   "source": [
    "# Dataset preparation"
   ]
  },
  {
   "cell_type": "code",
   "execution_count": 3,
   "id": "d46129fe",
   "metadata": {
    "id": "d46129fe"
   },
   "outputs": [],
   "source": [
    "files = []\n",
    "#read all files\n",
    "for file in os.listdir('./dependency_treebank'):\n",
    "    if file.endswith(\".dp\"):\n",
    "        files.append(file)   \n",
    "\n",
    "files = sorted(files)     "
   ]
  },
  {
   "cell_type": "code",
   "execution_count": 4,
   "id": "90c3f126",
   "metadata": {
    "id": "90c3f126"
   },
   "outputs": [],
   "source": [
    "dataframe = []\n",
    "for filename in sorted(os.listdir('./dependency_treebank')):\n",
    "    word_list = []\n",
    "    label_list = []\n",
    "    # open the file\n",
    "    with open(f'dependency_treebank/{filename}', mode='r', encoding='utf-8') as text_file:\n",
    "        a = True\n",
    "        while a:\n",
    "            line = text_file.readline()\n",
    "            if line.strip():\n",
    "                #The line is NOT empty'\n",
    "                words = line.split()\n",
    "                word_list.append(words[0].lower())\n",
    "                label_list.append(words[1]) \n",
    "            else:\n",
    "                #The line is empty\n",
    "                dataframe.append({\"file_id\": int(filename[5:8]), \"words\": list(word_list), \"labels\": list(label_list)}) \n",
    "                word_list = []\n",
    "                label_list = []\n",
    "            \n",
    "            if not line:\n",
    "                word_list = []\n",
    "                label_list = []\n",
    "                a = False\n"
   ]
  },
  {
   "cell_type": "code",
   "execution_count": 6,
   "id": "42e1c5f8",
   "metadata": {
    "colab": {
     "base_uri": "https://localhost:8080/"
    },
    "id": "42e1c5f8",
    "outputId": "e67543a0-199b-4c8d-ac2e-c35d358f23ea"
   },
   "outputs": [
    {
     "name": "stdout",
     "output_type": "stream",
     "text": [
      "sample X:  ['pierre', 'vinken', ',', '61', 'years', 'old', ',', 'will', 'join', 'the', 'board', 'as', 'a', 'nonexecutive', 'director', 'nov.', '29', '.']\n",
      "sample Y:  ['NNP', 'NNP', ',', 'CD', 'NNS', 'JJ', ',', 'MD', 'VB', 'DT', 'NN', 'IN', 'DT', 'JJ', 'NN', 'NNP', 'CD', '.'] \n",
      "\n",
      "sample X:  ['mr.', 'vinken', 'is', 'chairman', 'of', 'elsevier', 'n.v.', ',', 'the', 'dutch', 'publishing', 'group', '.']\n",
      "sample Y:  ['NNP', 'NNP', 'VBZ', 'NN', 'IN', 'NNP', 'NNP', ',', 'DT', 'NNP', 'VBG', 'NN', '.'] \n",
      "\n",
      "sample X:  ['rudolph', 'agnew', ',', '55', 'years', 'old', 'and', 'former', 'chairman', 'of', 'consolidated', 'gold', 'fields', 'plc', ',', 'was', 'named', 'a', 'nonexecutive', 'director', 'of', 'this', 'british', 'industrial', 'conglomerate', '.']\n",
      "sample Y:  ['NNP', 'NNP', ',', 'CD', 'NNS', 'JJ', 'CC', 'JJ', 'NN', 'IN', 'NNP', 'NNP', 'NNP', 'NNP', ',', 'VBD', 'VBN', 'DT', 'JJ', 'NN', 'IN', 'DT', 'JJ', 'JJ', 'NN', '.'] \n",
      "\n",
      "sample X:  ['a', 'form', 'of', 'asbestos', 'once', 'used', 'to', 'make', 'kent', 'cigarette', 'filters', 'has', 'caused', 'a', 'high', 'percentage', 'of', 'cancer', 'deaths', 'among', 'a', 'group', 'of', 'workers', 'exposed', 'to', 'it', 'more', 'than', '30', 'years', 'ago', ',', 'researchers', 'reported', '.']\n",
      "sample Y:  ['DT', 'NN', 'IN', 'NN', 'RB', 'VBN', 'TO', 'VB', 'NNP', 'NN', 'NNS', 'VBZ', 'VBN', 'DT', 'JJ', 'NN', 'IN', 'NN', 'NNS', 'IN', 'DT', 'NN', 'IN', 'NNS', 'VBN', 'TO', 'PRP', 'RBR', 'IN', 'CD', 'NNS', 'IN', ',', 'NNS', 'VBD', '.'] \n",
      "\n",
      "sample X:  ['the', 'asbestos', 'fiber', ',', 'crocidolite', ',', 'is', 'unusually', 'resilient', 'once', 'it', 'enters', 'the', 'lungs', ',', 'with', 'even', 'brief', 'exposures', 'to', 'it', 'causing', 'symptoms', 'that', 'show', 'up', 'decades', 'later', ',', 'researchers', 'said', '.']\n",
      "sample Y:  ['DT', 'NN', 'NN', ',', 'NN', ',', 'VBZ', 'RB', 'JJ', 'IN', 'PRP', 'VBZ', 'DT', 'NNS', ',', 'IN', 'RB', 'JJ', 'NNS', 'TO', 'PRP', 'VBG', 'NNS', 'WDT', 'VBP', 'RP', 'NNS', 'JJ', ',', 'NNS', 'VBD', '.'] \n",
      "\n"
     ]
    }
   ],
   "source": [
    "# let's look at first five data points\n",
    "number_of_samples = 5\n",
    "samples = dataframe[:number_of_samples]\n",
    "for s in samples:\n",
    "    print('sample X: ', s['words'])\n",
    "    print('sample Y: ', s['labels'], '\\n')\n"
   ]
  },
  {
   "cell_type": "markdown",
   "id": "HpawYoNNmD30",
   "metadata": {
    "id": "HpawYoNNmD30"
   },
   "source": [
    "In this many-to-many problem, the length of each input and output sequence must be the same. Since each word is tagged, it's important to make sure that the length of input sequence equals the output sequence"
   ]
  },
  {
   "cell_type": "code",
   "execution_count": 7,
   "id": "01adfca8",
   "metadata": {
    "colab": {
     "base_uri": "https://localhost:8080/"
    },
    "id": "01adfca8",
    "outputId": "d66548fe-8dfe-406b-91a5-4a23e005f7ee"
   },
   "outputs": [
    {
     "name": "stdout",
     "output_type": "stream",
     "text": [
      "Length of 1' input sequence : 18\n",
      "Length of 1' output sequence: 18\n",
      "\n",
      "Length of 2' input sequence : 13\n",
      "Length of 2' output sequence: 13\n",
      "\n",
      "Length of 3' input sequence : 26\n",
      "Length of 3' output sequence: 26\n",
      "\n",
      "Length of 4' input sequence : 36\n",
      "Length of 4' output sequence: 36\n",
      "\n",
      "Length of 5' input sequence : 32\n",
      "Length of 5' output sequence: 32\n",
      "\n"
     ]
    }
   ],
   "source": [
    "for i in range(len(samples)):\n",
    "    print(\"Length of {}' input sequence : {}\".format(i+1, len(samples[i]['words'])))\n",
    "    print(\"Length of {}' output sequence: {}\\n\".format(i+1, len(samples[i]['labels'])))\n"
   ]
  },
  {
   "cell_type": "markdown",
   "id": "9nkvj82if1ei",
   "metadata": {
    "id": "9nkvj82if1ei"
   },
   "source": [
    "# Dataframe creation"
   ]
  },
  {
   "cell_type": "code",
   "execution_count": 8,
   "id": "Xn31PgGQV5C4",
   "metadata": {
    "id": "Xn31PgGQV5C4"
   },
   "outputs": [],
   "source": [
    "def set_split(x):\n",
    "    if x < 101:\n",
    "        return 'train'\n",
    "    elif x < 151:\n",
    "        return 'val'\n",
    "    else:\n",
    "        return 'test'"
   ]
  },
  {
   "cell_type": "code",
   "execution_count": 9,
   "id": "19414bf4",
   "metadata": {
    "colab": {
     "base_uri": "https://localhost:8080/",
     "height": 424
    },
    "id": "19414bf4",
    "outputId": "7e572b67-77b4-4708-b48b-995fea9ea71a",
    "scrolled": true
   },
   "outputs": [
    {
     "data": {
      "text/html": [
       "\n",
       "  <div id=\"df-8f2ed7f6-f6fe-4d63-86c3-f42d9dd962ce\">\n",
       "    <div class=\"colab-df-container\">\n",
       "      <div>\n",
       "<style scoped>\n",
       "    .dataframe tbody tr th:only-of-type {\n",
       "        vertical-align: middle;\n",
       "    }\n",
       "\n",
       "    .dataframe tbody tr th {\n",
       "        vertical-align: top;\n",
       "    }\n",
       "\n",
       "    .dataframe thead th {\n",
       "        text-align: right;\n",
       "    }\n",
       "</style>\n",
       "<table border=\"1\" class=\"dataframe\">\n",
       "  <thead>\n",
       "    <tr style=\"text-align: right;\">\n",
       "      <th></th>\n",
       "      <th>file_id</th>\n",
       "      <th>words</th>\n",
       "      <th>labels</th>\n",
       "      <th>split</th>\n",
       "    </tr>\n",
       "  </thead>\n",
       "  <tbody>\n",
       "    <tr>\n",
       "      <th>0</th>\n",
       "      <td>1</td>\n",
       "      <td>[pierre, vinken, ,, 61, years, old, ,, will, j...</td>\n",
       "      <td>[NNP, NNP, ,, CD, NNS, JJ, ,, MD, VB, DT, NN, ...</td>\n",
       "      <td>train</td>\n",
       "    </tr>\n",
       "    <tr>\n",
       "      <th>1</th>\n",
       "      <td>1</td>\n",
       "      <td>[mr., vinken, is, chairman, of, elsevier, n.v....</td>\n",
       "      <td>[NNP, NNP, VBZ, NN, IN, NNP, NNP, ,, DT, NNP, ...</td>\n",
       "      <td>train</td>\n",
       "    </tr>\n",
       "    <tr>\n",
       "      <th>2</th>\n",
       "      <td>2</td>\n",
       "      <td>[rudolph, agnew, ,, 55, years, old, and, forme...</td>\n",
       "      <td>[NNP, NNP, ,, CD, NNS, JJ, CC, JJ, NN, IN, NNP...</td>\n",
       "      <td>train</td>\n",
       "    </tr>\n",
       "    <tr>\n",
       "      <th>3</th>\n",
       "      <td>3</td>\n",
       "      <td>[a, form, of, asbestos, once, used, to, make, ...</td>\n",
       "      <td>[DT, NN, IN, NN, RB, VBN, TO, VB, NNP, NN, NNS...</td>\n",
       "      <td>train</td>\n",
       "    </tr>\n",
       "    <tr>\n",
       "      <th>4</th>\n",
       "      <td>3</td>\n",
       "      <td>[the, asbestos, fiber, ,, crocidolite, ,, is, ...</td>\n",
       "      <td>[DT, NN, NN, ,, NN, ,, VBZ, RB, JJ, IN, PRP, V...</td>\n",
       "      <td>train</td>\n",
       "    </tr>\n",
       "    <tr>\n",
       "      <th>...</th>\n",
       "      <td>...</td>\n",
       "      <td>...</td>\n",
       "      <td>...</td>\n",
       "      <td>...</td>\n",
       "    </tr>\n",
       "    <tr>\n",
       "      <th>3909</th>\n",
       "      <td>198</td>\n",
       "      <td>[they, also, said, that, more, than, a, dozen,...</td>\n",
       "      <td>[PRP, RB, VBD, IN, JJR, IN, DT, NN, NNS, VBP, ...</td>\n",
       "      <td>test</td>\n",
       "    </tr>\n",
       "    <tr>\n",
       "      <th>3910</th>\n",
       "      <td>198</td>\n",
       "      <td>[sen., kennedy, said, in, a, separate, stateme...</td>\n",
       "      <td>[NNP, NNP, VBD, IN, DT, JJ, NN, IN, PRP, VBZ, ...</td>\n",
       "      <td>test</td>\n",
       "    </tr>\n",
       "    <tr>\n",
       "      <th>3911</th>\n",
       "      <td>199</td>\n",
       "      <td>[trinity, industries, inc., said, it, reached,...</td>\n",
       "      <td>[NNP, NNPS, NNP, VBD, PRP, VBD, DT, JJ, NN, TO...</td>\n",
       "      <td>test</td>\n",
       "    </tr>\n",
       "    <tr>\n",
       "      <th>3912</th>\n",
       "      <td>199</td>\n",
       "      <td>[terms, were, n't, disclosed, .]</td>\n",
       "      <td>[NNS, VBD, RB, VBN, .]</td>\n",
       "      <td>test</td>\n",
       "    </tr>\n",
       "    <tr>\n",
       "      <th>3913</th>\n",
       "      <td>199</td>\n",
       "      <td>[trinity, said, it, plans, to, begin, delivery...</td>\n",
       "      <td>[NNP, VBD, PRP, VBZ, TO, VB, NN, IN, DT, JJ, N...</td>\n",
       "      <td>test</td>\n",
       "    </tr>\n",
       "  </tbody>\n",
       "</table>\n",
       "<p>3914 rows × 4 columns</p>\n",
       "</div>\n",
       "      <button class=\"colab-df-convert\" onclick=\"convertToInteractive('df-8f2ed7f6-f6fe-4d63-86c3-f42d9dd962ce')\"\n",
       "              title=\"Convert this dataframe to an interactive table.\"\n",
       "              style=\"display:none;\">\n",
       "        \n",
       "  <svg xmlns=\"http://www.w3.org/2000/svg\" height=\"24px\"viewBox=\"0 0 24 24\"\n",
       "       width=\"24px\">\n",
       "    <path d=\"M0 0h24v24H0V0z\" fill=\"none\"/>\n",
       "    <path d=\"M18.56 5.44l.94 2.06.94-2.06 2.06-.94-2.06-.94-.94-2.06-.94 2.06-2.06.94zm-11 1L8.5 8.5l.94-2.06 2.06-.94-2.06-.94L8.5 2.5l-.94 2.06-2.06.94zm10 10l.94 2.06.94-2.06 2.06-.94-2.06-.94-.94-2.06-.94 2.06-2.06.94z\"/><path d=\"M17.41 7.96l-1.37-1.37c-.4-.4-.92-.59-1.43-.59-.52 0-1.04.2-1.43.59L10.3 9.45l-7.72 7.72c-.78.78-.78 2.05 0 2.83L4 21.41c.39.39.9.59 1.41.59.51 0 1.02-.2 1.41-.59l7.78-7.78 2.81-2.81c.8-.78.8-2.07 0-2.86zM5.41 20L4 18.59l7.72-7.72 1.47 1.35L5.41 20z\"/>\n",
       "  </svg>\n",
       "      </button>\n",
       "      \n",
       "  <style>\n",
       "    .colab-df-container {\n",
       "      display:flex;\n",
       "      flex-wrap:wrap;\n",
       "      gap: 12px;\n",
       "    }\n",
       "\n",
       "    .colab-df-convert {\n",
       "      background-color: #E8F0FE;\n",
       "      border: none;\n",
       "      border-radius: 50%;\n",
       "      cursor: pointer;\n",
       "      display: none;\n",
       "      fill: #1967D2;\n",
       "      height: 32px;\n",
       "      padding: 0 0 0 0;\n",
       "      width: 32px;\n",
       "    }\n",
       "\n",
       "    .colab-df-convert:hover {\n",
       "      background-color: #E2EBFA;\n",
       "      box-shadow: 0px 1px 2px rgba(60, 64, 67, 0.3), 0px 1px 3px 1px rgba(60, 64, 67, 0.15);\n",
       "      fill: #174EA6;\n",
       "    }\n",
       "\n",
       "    [theme=dark] .colab-df-convert {\n",
       "      background-color: #3B4455;\n",
       "      fill: #D2E3FC;\n",
       "    }\n",
       "\n",
       "    [theme=dark] .colab-df-convert:hover {\n",
       "      background-color: #434B5C;\n",
       "      box-shadow: 0px 1px 3px 1px rgba(0, 0, 0, 0.15);\n",
       "      filter: drop-shadow(0px 1px 2px rgba(0, 0, 0, 0.3));\n",
       "      fill: #FFFFFF;\n",
       "    }\n",
       "  </style>\n",
       "\n",
       "      <script>\n",
       "        const buttonEl =\n",
       "          document.querySelector('#df-8f2ed7f6-f6fe-4d63-86c3-f42d9dd962ce button.colab-df-convert');\n",
       "        buttonEl.style.display =\n",
       "          google.colab.kernel.accessAllowed ? 'block' : 'none';\n",
       "\n",
       "        async function convertToInteractive(key) {\n",
       "          const element = document.querySelector('#df-8f2ed7f6-f6fe-4d63-86c3-f42d9dd962ce');\n",
       "          const dataTable =\n",
       "            await google.colab.kernel.invokeFunction('convertToInteractive',\n",
       "                                                     [key], {});\n",
       "          if (!dataTable) return;\n",
       "\n",
       "          const docLinkHtml = 'Like what you see? Visit the ' +\n",
       "            '<a target=\"_blank\" href=https://colab.research.google.com/notebooks/data_table.ipynb>data table notebook</a>'\n",
       "            + ' to learn more about interactive tables.';\n",
       "          element.innerHTML = '';\n",
       "          dataTable['output_type'] = 'display_data';\n",
       "          await google.colab.output.renderOutput(dataTable, element);\n",
       "          const docLink = document.createElement('div');\n",
       "          docLink.innerHTML = docLinkHtml;\n",
       "          element.appendChild(docLink);\n",
       "        }\n",
       "      </script>\n",
       "    </div>\n",
       "  </div>\n",
       "  "
      ],
      "text/plain": [
       "      file_id                                              words  \\\n",
       "0           1  [pierre, vinken, ,, 61, years, old, ,, will, j...   \n",
       "1           1  [mr., vinken, is, chairman, of, elsevier, n.v....   \n",
       "2           2  [rudolph, agnew, ,, 55, years, old, and, forme...   \n",
       "3           3  [a, form, of, asbestos, once, used, to, make, ...   \n",
       "4           3  [the, asbestos, fiber, ,, crocidolite, ,, is, ...   \n",
       "...       ...                                                ...   \n",
       "3909      198  [they, also, said, that, more, than, a, dozen,...   \n",
       "3910      198  [sen., kennedy, said, in, a, separate, stateme...   \n",
       "3911      199  [trinity, industries, inc., said, it, reached,...   \n",
       "3912      199                   [terms, were, n't, disclosed, .]   \n",
       "3913      199  [trinity, said, it, plans, to, begin, delivery...   \n",
       "\n",
       "                                                 labels  split  \n",
       "0     [NNP, NNP, ,, CD, NNS, JJ, ,, MD, VB, DT, NN, ...  train  \n",
       "1     [NNP, NNP, VBZ, NN, IN, NNP, NNP, ,, DT, NNP, ...  train  \n",
       "2     [NNP, NNP, ,, CD, NNS, JJ, CC, JJ, NN, IN, NNP...  train  \n",
       "3     [DT, NN, IN, NN, RB, VBN, TO, VB, NNP, NN, NNS...  train  \n",
       "4     [DT, NN, NN, ,, NN, ,, VBZ, RB, JJ, IN, PRP, V...  train  \n",
       "...                                                 ...    ...  \n",
       "3909  [PRP, RB, VBD, IN, JJR, IN, DT, NN, NNS, VBP, ...   test  \n",
       "3910  [NNP, NNP, VBD, IN, DT, JJ, NN, IN, PRP, VBZ, ...   test  \n",
       "3911  [NNP, NNPS, NNP, VBD, PRP, VBD, DT, JJ, NN, TO...   test  \n",
       "3912                             [NNS, VBD, RB, VBN, .]   test  \n",
       "3913  [NNP, VBD, PRP, VBZ, TO, VB, NN, IN, DT, JJ, N...   test  \n",
       "\n",
       "[3914 rows x 4 columns]"
      ]
     },
     "execution_count": 9,
     "metadata": {},
     "output_type": "execute_result"
    }
   ],
   "source": [
    "df = pd.DataFrame(dataframe)\n",
    "df['split'] = df['file_id'].map(lambda x: set_split(x))\n",
    "df"
   ]
  },
  {
   "cell_type": "markdown",
   "id": "oECNANGEgIxL",
   "metadata": {
    "id": "oECNANGEgIxL"
   },
   "source": [
    "# Dataset Analysis"
   ]
  },
  {
   "cell_type": "code",
   "execution_count": 10,
   "id": "0yUdsCAeVfOT",
   "metadata": {
    "colab": {
     "base_uri": "https://localhost:8080/",
     "height": 424
    },
    "id": "0yUdsCAeVfOT",
    "outputId": "205c03fe-1a3c-42fe-f864-9982e409c4cb"
   },
   "outputs": [
    {
     "data": {
      "text/html": [
       "\n",
       "  <div id=\"df-3e98ca6a-ab10-4a14-8675-3700c7f2c9d6\">\n",
       "    <div class=\"colab-df-container\">\n",
       "      <div>\n",
       "<style scoped>\n",
       "    .dataframe tbody tr th:only-of-type {\n",
       "        vertical-align: middle;\n",
       "    }\n",
       "\n",
       "    .dataframe tbody tr th {\n",
       "        vertical-align: top;\n",
       "    }\n",
       "\n",
       "    .dataframe thead th {\n",
       "        text-align: right;\n",
       "    }\n",
       "</style>\n",
       "<table border=\"1\" class=\"dataframe\">\n",
       "  <thead>\n",
       "    <tr style=\"text-align: right;\">\n",
       "      <th></th>\n",
       "      <th>file_id</th>\n",
       "      <th>words</th>\n",
       "      <th>labels</th>\n",
       "      <th>split</th>\n",
       "    </tr>\n",
       "  </thead>\n",
       "  <tbody>\n",
       "    <tr>\n",
       "      <th>0</th>\n",
       "      <td>1</td>\n",
       "      <td>pierre</td>\n",
       "      <td>NNP</td>\n",
       "      <td>train</td>\n",
       "    </tr>\n",
       "    <tr>\n",
       "      <th>0</th>\n",
       "      <td>1</td>\n",
       "      <td>vinken</td>\n",
       "      <td>NNP</td>\n",
       "      <td>train</td>\n",
       "    </tr>\n",
       "    <tr>\n",
       "      <th>0</th>\n",
       "      <td>1</td>\n",
       "      <td>,</td>\n",
       "      <td>,</td>\n",
       "      <td>train</td>\n",
       "    </tr>\n",
       "    <tr>\n",
       "      <th>0</th>\n",
       "      <td>1</td>\n",
       "      <td>61</td>\n",
       "      <td>CD</td>\n",
       "      <td>train</td>\n",
       "    </tr>\n",
       "    <tr>\n",
       "      <th>0</th>\n",
       "      <td>1</td>\n",
       "      <td>years</td>\n",
       "      <td>NNS</td>\n",
       "      <td>train</td>\n",
       "    </tr>\n",
       "    <tr>\n",
       "      <th>...</th>\n",
       "      <td>...</td>\n",
       "      <td>...</td>\n",
       "      <td>...</td>\n",
       "      <td>...</td>\n",
       "    </tr>\n",
       "    <tr>\n",
       "      <th>3913</th>\n",
       "      <td>199</td>\n",
       "      <td>quarter</td>\n",
       "      <td>NN</td>\n",
       "      <td>test</td>\n",
       "    </tr>\n",
       "    <tr>\n",
       "      <th>3913</th>\n",
       "      <td>199</td>\n",
       "      <td>of</td>\n",
       "      <td>IN</td>\n",
       "      <td>test</td>\n",
       "    </tr>\n",
       "    <tr>\n",
       "      <th>3913</th>\n",
       "      <td>199</td>\n",
       "      <td>next</td>\n",
       "      <td>JJ</td>\n",
       "      <td>test</td>\n",
       "    </tr>\n",
       "    <tr>\n",
       "      <th>3913</th>\n",
       "      <td>199</td>\n",
       "      <td>year</td>\n",
       "      <td>NN</td>\n",
       "      <td>test</td>\n",
       "    </tr>\n",
       "    <tr>\n",
       "      <th>3913</th>\n",
       "      <td>199</td>\n",
       "      <td>.</td>\n",
       "      <td>.</td>\n",
       "      <td>test</td>\n",
       "    </tr>\n",
       "  </tbody>\n",
       "</table>\n",
       "<p>94084 rows × 4 columns</p>\n",
       "</div>\n",
       "      <button class=\"colab-df-convert\" onclick=\"convertToInteractive('df-3e98ca6a-ab10-4a14-8675-3700c7f2c9d6')\"\n",
       "              title=\"Convert this dataframe to an interactive table.\"\n",
       "              style=\"display:none;\">\n",
       "        \n",
       "  <svg xmlns=\"http://www.w3.org/2000/svg\" height=\"24px\"viewBox=\"0 0 24 24\"\n",
       "       width=\"24px\">\n",
       "    <path d=\"M0 0h24v24H0V0z\" fill=\"none\"/>\n",
       "    <path d=\"M18.56 5.44l.94 2.06.94-2.06 2.06-.94-2.06-.94-.94-2.06-.94 2.06-2.06.94zm-11 1L8.5 8.5l.94-2.06 2.06-.94-2.06-.94L8.5 2.5l-.94 2.06-2.06.94zm10 10l.94 2.06.94-2.06 2.06-.94-2.06-.94-.94-2.06-.94 2.06-2.06.94z\"/><path d=\"M17.41 7.96l-1.37-1.37c-.4-.4-.92-.59-1.43-.59-.52 0-1.04.2-1.43.59L10.3 9.45l-7.72 7.72c-.78.78-.78 2.05 0 2.83L4 21.41c.39.39.9.59 1.41.59.51 0 1.02-.2 1.41-.59l7.78-7.78 2.81-2.81c.8-.78.8-2.07 0-2.86zM5.41 20L4 18.59l7.72-7.72 1.47 1.35L5.41 20z\"/>\n",
       "  </svg>\n",
       "      </button>\n",
       "      \n",
       "  <style>\n",
       "    .colab-df-container {\n",
       "      display:flex;\n",
       "      flex-wrap:wrap;\n",
       "      gap: 12px;\n",
       "    }\n",
       "\n",
       "    .colab-df-convert {\n",
       "      background-color: #E8F0FE;\n",
       "      border: none;\n",
       "      border-radius: 50%;\n",
       "      cursor: pointer;\n",
       "      display: none;\n",
       "      fill: #1967D2;\n",
       "      height: 32px;\n",
       "      padding: 0 0 0 0;\n",
       "      width: 32px;\n",
       "    }\n",
       "\n",
       "    .colab-df-convert:hover {\n",
       "      background-color: #E2EBFA;\n",
       "      box-shadow: 0px 1px 2px rgba(60, 64, 67, 0.3), 0px 1px 3px 1px rgba(60, 64, 67, 0.15);\n",
       "      fill: #174EA6;\n",
       "    }\n",
       "\n",
       "    [theme=dark] .colab-df-convert {\n",
       "      background-color: #3B4455;\n",
       "      fill: #D2E3FC;\n",
       "    }\n",
       "\n",
       "    [theme=dark] .colab-df-convert:hover {\n",
       "      background-color: #434B5C;\n",
       "      box-shadow: 0px 1px 3px 1px rgba(0, 0, 0, 0.15);\n",
       "      filter: drop-shadow(0px 1px 2px rgba(0, 0, 0, 0.3));\n",
       "      fill: #FFFFFF;\n",
       "    }\n",
       "  </style>\n",
       "\n",
       "      <script>\n",
       "        const buttonEl =\n",
       "          document.querySelector('#df-3e98ca6a-ab10-4a14-8675-3700c7f2c9d6 button.colab-df-convert');\n",
       "        buttonEl.style.display =\n",
       "          google.colab.kernel.accessAllowed ? 'block' : 'none';\n",
       "\n",
       "        async function convertToInteractive(key) {\n",
       "          const element = document.querySelector('#df-3e98ca6a-ab10-4a14-8675-3700c7f2c9d6');\n",
       "          const dataTable =\n",
       "            await google.colab.kernel.invokeFunction('convertToInteractive',\n",
       "                                                     [key], {});\n",
       "          if (!dataTable) return;\n",
       "\n",
       "          const docLinkHtml = 'Like what you see? Visit the ' +\n",
       "            '<a target=\"_blank\" href=https://colab.research.google.com/notebooks/data_table.ipynb>data table notebook</a>'\n",
       "            + ' to learn more about interactive tables.';\n",
       "          element.innerHTML = '';\n",
       "          dataTable['output_type'] = 'display_data';\n",
       "          await google.colab.output.renderOutput(dataTable, element);\n",
       "          const docLink = document.createElement('div');\n",
       "          docLink.innerHTML = docLinkHtml;\n",
       "          element.appendChild(docLink);\n",
       "        }\n",
       "      </script>\n",
       "    </div>\n",
       "  </div>\n",
       "  "
      ],
      "text/plain": [
       "      file_id    words labels  split\n",
       "0           1   pierre    NNP  train\n",
       "0           1   vinken    NNP  train\n",
       "0           1        ,      ,  train\n",
       "0           1       61     CD  train\n",
       "0           1    years    NNS  train\n",
       "...       ...      ...    ...    ...\n",
       "3913      199  quarter     NN   test\n",
       "3913      199       of     IN   test\n",
       "3913      199     next     JJ   test\n",
       "3913      199     year     NN   test\n",
       "3913      199        .      .   test\n",
       "\n",
       "[94084 rows x 4 columns]"
      ]
     },
     "execution_count": 10,
     "metadata": {},
     "output_type": "execute_result"
    }
   ],
   "source": [
    "df2 = df.explode(['labels', 'words'])\n",
    "df2"
   ]
  },
  {
   "cell_type": "markdown",
   "id": "yTVA_g03gQj2",
   "metadata": {
    "id": "yTVA_g03gQj2"
   },
   "source": [
    "## Labels distribution"
   ]
  },
  {
   "cell_type": "code",
   "execution_count": 11,
   "id": "crccKZ7pVkfR",
   "metadata": {
    "colab": {
     "base_uri": "https://localhost:8080/"
    },
    "id": "crccKZ7pVkfR",
    "outputId": "b04e16b7-4ce9-40ae-bb27-122280b2c33b"
   },
   "outputs": [
    {
     "name": "stdout",
     "output_type": "stream",
     "text": [
      "Distribution of labels: \n",
      "NN       13166\n",
      "IN        9857\n",
      "NNP       9410\n",
      "DT        8165\n",
      "NNS       6047\n",
      "JJ        5834\n",
      ",         4886\n",
      ".         3874\n",
      "CD        3546\n",
      "VBD       3043\n",
      "RB        2822\n",
      "VB        2554\n",
      "CC        2265\n",
      "TO        2179\n",
      "VBN       2134\n",
      "VBZ       2125\n",
      "PRP       1716\n",
      "VBG       1460\n",
      "VBP       1321\n",
      "MD         927\n",
      "POS        824\n",
      "PRP$       766\n",
      "$          724\n",
      "``         712\n",
      "''         694\n",
      ":          563\n",
      "WDT        445\n",
      "JJR        381\n",
      "NNPS       244\n",
      "WP         241\n",
      "RP         216\n",
      "JJS        182\n",
      "WRB        178\n",
      "RBR        136\n",
      "-RRB-      126\n",
      "-LRB-      120\n",
      "EX          88\n",
      "RBS         35\n",
      "PDT         27\n",
      "#           16\n",
      "WP$         14\n",
      "LS          13\n",
      "FW           4\n",
      "UH           3\n",
      "SYM          1\n",
      "Name: labels, dtype: int64\n",
      "\n"
     ]
    }
   ],
   "source": [
    "column = 'labels'\n",
    "print(\"Distribution of labels: \")\n",
    "print(df2[column].value_counts())\n",
    "print()"
   ]
  },
  {
   "cell_type": "markdown",
   "id": "fb-ySRTXgXNX",
   "metadata": {
    "id": "fb-ySRTXgXNX"
   },
   "source": [
    "## Labels distribution in train set"
   ]
  },
  {
   "cell_type": "code",
   "execution_count": 12,
   "id": "8ATKL8V_Vq2l",
   "metadata": {
    "colab": {
     "base_uri": "https://localhost:8080/"
    },
    "id": "8ATKL8V_Vq2l",
    "outputId": "90fe0068-b83d-420e-dd71-b01bf6d55a53"
   },
   "outputs": [
    {
     "name": "stdout",
     "output_type": "stream",
     "text": [
      "Distribution of labels in train set: \n",
      "NN       6270\n",
      "NNP      5202\n",
      "IN       4952\n",
      "DT       4076\n",
      "NNS      3004\n",
      "JJ       2992\n",
      ",        2571\n",
      ".        1959\n",
      "VBD      1548\n",
      "RB       1490\n",
      "CD       1439\n",
      "VB       1195\n",
      "CC       1141\n",
      "VBZ      1133\n",
      "VBN      1031\n",
      "TO       1028\n",
      "PRP       954\n",
      "VBG       763\n",
      "VBP       727\n",
      "MD        413\n",
      "PRP$      409\n",
      "``        409\n",
      "POS       403\n",
      "''        399\n",
      "$         342\n",
      ":         293\n",
      "WDT       204\n",
      "JJR       157\n",
      "WP        141\n",
      "RP        140\n",
      "NNPS       95\n",
      "JJS        93\n",
      "WRB        92\n",
      "RBR        86\n",
      "-RRB-      55\n",
      "-LRB-      52\n",
      "EX         49\n",
      "RBS        19\n",
      "LS         10\n",
      "PDT         9\n",
      "WP$         6\n",
      "FW          2\n",
      "UH          1\n",
      "SYM         1\n",
      "#           1\n",
      "Name: labels, dtype: int64\n",
      "\n"
     ]
    }
   ],
   "source": [
    "df_train = df2[df2.split == 'train']\n",
    "print(\"Distribution of labels in train set: \")\n",
    "print(df_train[column].value_counts())\n",
    "print()"
   ]
  },
  {
   "cell_type": "markdown",
   "id": "VCd0Mn15gcWP",
   "metadata": {
    "id": "VCd0Mn15gcWP"
   },
   "source": [
    "## Labels distribution in validation set"
   ]
  },
  {
   "cell_type": "code",
   "execution_count": 13,
   "id": "OE4DmMP0WUSm",
   "metadata": {
    "colab": {
     "base_uri": "https://localhost:8080/"
    },
    "id": "OE4DmMP0WUSm",
    "outputId": "d41faf0b-1d5e-4e68-90b0-4bb43583d122"
   },
   "outputs": [
    {
     "name": "stdout",
     "output_type": "stream",
     "text": [
      "Distribution of labels in validation set: \n",
      "NN       4513\n",
      "IN       3275\n",
      "DT       2754\n",
      "NNP      2704\n",
      "NNS      2102\n",
      "JJ       1924\n",
      ",        1528\n",
      ".        1277\n",
      "CD       1249\n",
      "VB        956\n",
      "RB        951\n",
      "VBD       861\n",
      "TO        765\n",
      "CC        758\n",
      "VBN       737\n",
      "VBZ       712\n",
      "PRP       570\n",
      "VBG       476\n",
      "VBP       460\n",
      "MD        347\n",
      "POS       269\n",
      "PRP$      258\n",
      "``        230\n",
      "''        225\n",
      ":         214\n",
      "$         173\n",
      "JJR       165\n",
      "WDT       157\n",
      "NNPS      105\n",
      "WP         80\n",
      "WRB        62\n",
      "JJS        58\n",
      "-RRB-      53\n",
      "-LRB-      50\n",
      "RP         43\n",
      "RBR        35\n",
      "EX         34\n",
      "#          15\n",
      "PDT        14\n",
      "RBS        13\n",
      "WP$         4\n",
      "LS          3\n",
      "FW          2\n",
      "UH          2\n",
      "Name: labels, dtype: int64\n",
      "\n"
     ]
    }
   ],
   "source": [
    "df_val = df2[df2.split == 'val']\n",
    "print(\"Distribution of labels in validation set: \")\n",
    "print(df_val[column].value_counts())\n",
    "print()"
   ]
  },
  {
   "cell_type": "markdown",
   "id": "8w2nB6DpggId",
   "metadata": {
    "id": "8w2nB6DpggId"
   },
   "source": [
    "## Labels distribution in test set"
   ]
  },
  {
   "cell_type": "code",
   "execution_count": 14,
   "id": "GowjjVBIWbPY",
   "metadata": {
    "colab": {
     "base_uri": "https://localhost:8080/"
    },
    "id": "GowjjVBIWbPY",
    "outputId": "053bdf88-8b57-4caf-ed6b-95274be2309d"
   },
   "outputs": [
    {
     "name": "stdout",
     "output_type": "stream",
     "text": [
      "Distribution of labels in test set: \n",
      "NN       2383\n",
      "IN       1630\n",
      "NNP      1504\n",
      "DT       1335\n",
      "NNS       941\n",
      "JJ        918\n",
      "CD        858\n",
      ",         787\n",
      ".         638\n",
      "VBD       634\n",
      "VB        403\n",
      "TO        386\n",
      "RB        381\n",
      "CC        366\n",
      "VBN       366\n",
      "VBZ       280\n",
      "VBG       221\n",
      "$         209\n",
      "PRP       192\n",
      "MD        167\n",
      "POS       152\n",
      "VBP       134\n",
      "PRP$       99\n",
      "WDT        84\n",
      "``         73\n",
      "''         70\n",
      "JJR        59\n",
      ":          56\n",
      "NNPS       44\n",
      "RP         33\n",
      "JJS        31\n",
      "WRB        24\n",
      "WP         20\n",
      "-LRB-      18\n",
      "-RRB-      18\n",
      "RBR        15\n",
      "EX          5\n",
      "WP$         4\n",
      "PDT         4\n",
      "RBS         3\n",
      "Name: labels, dtype: int64\n",
      "\n"
     ]
    }
   ],
   "source": [
    "df_test = df2[df2.split == 'test']\n",
    "print(\"Distribution of labels in test set: \")\n",
    "print(df_test[column].value_counts())\n",
    "print()"
   ]
  },
  {
   "cell_type": "markdown",
   "id": "y03OVmxQgxnV",
   "metadata": {
    "id": "y03OVmxQgxnV"
   },
   "source": [
    "## Visualization of labels distribution"
   ]
  },
  {
   "cell_type": "code",
   "execution_count": 15,
   "id": "pDr4tiKIYab6",
   "metadata": {
    "id": "pDr4tiKIYab6"
   },
   "outputs": [],
   "source": [
    "sorted_labels = np.unique(sorted(df_train.labels))"
   ]
  },
  {
   "cell_type": "code",
   "execution_count": 16,
   "id": "VAl4lfYNYOqD",
   "metadata": {
    "colab": {
     "base_uri": "https://localhost:8080/",
     "height": 423
    },
    "id": "VAl4lfYNYOqD",
    "outputId": "65925c59-fce2-4fc4-c682-18067cc59c81"
   },
   "outputs": [
    {
     "data": {
      "image/png": "[encoded data removed]",
      "text/plain": [
       "<Figure size 1800x720 with 1 Axes>"
      ]
     },
     "metadata": {
      "needs_background": "light"
     },
     "output_type": "display_data"
    }
   ],
   "source": [
    "plt.figure(figsize=(25,10))\n",
    "\n",
    "def get_values(data):\n",
    "    return data.labels.value_counts(sort = False).reindex(sorted_labels, fill_value=0).values\n",
    "\n",
    "def subcategorybar(X, vals, width=0.8):\n",
    "    n = len(vals)\n",
    "    _X = np.arange(len(X))\n",
    "    for i in range(n):\n",
    "        plt.bar(_X - width/2. + i/float(n)*width, vals[i], \n",
    "                width=width/float(n), align=\"edge\")   \n",
    "    plt.xticks(_X, X)\n",
    "\n",
    "x_ax = sorted_labels  \n",
    "y1_ax = get_values(df_train)\n",
    "y2_ax = get_values(df_val)\n",
    "y3_ax = get_values(df_test)\n",
    "subcategorybar(x_ax, [y1_ax,y2_ax,y3_ax])\n",
    "\n",
    "plt.legend([\"Train\", \"Validation\", \"Test\"], loc='upper center')\n",
    "plt.show()"
   ]
  },
  {
   "cell_type": "code",
   "execution_count": 17,
   "id": "46azpM9YZcIj",
   "metadata": {
    "id": "46azpM9YZcIj"
   },
   "outputs": [],
   "source": [
    "def plot_bar(data, color, title):\n",
    "    plt.figure(figsize=(15,5))\n",
    "    plt.title(title)\n",
    "    data.labels.value_counts(sort = False).reindex(sorted_labels, fill_value=0).plot.bar(color=color)"
   ]
  },
  {
   "cell_type": "code",
   "execution_count": 18,
   "id": "NrW0P_V5ZfGJ",
   "metadata": {
    "colab": {
     "base_uri": "https://localhost:8080/",
     "height": 1000
    },
    "id": "NrW0P_V5ZfGJ",
    "outputId": "47c4f4f7-60f1-420e-bfd1-25d7c58fd05f"
   },
   "outputs": [
    {
     "data": {
      "image/png": "[encoded data removed]",
      "text/plain": [
       "<Figure size 1080x360 with 1 Axes>"
      ]
     },
     "metadata": {
      "needs_background": "light"
     },
     "output_type": "display_data"
    },
    {
     "data": {
      "image/png": "[encoded data removed]",
      "text/plain": [
       "<Figure size 1080x360 with 1 Axes>"
      ]
     },
     "metadata": {
      "needs_background": "light"
     },
     "output_type": "display_data"
    },
    {
     "data": {
      "image/png": "[encoded data removed]",
      "text/plain": [
       "<Figure size 1080x360 with 1 Axes>"
      ]
     },
     "metadata": {
      "needs_background": "light"
     },
     "output_type": "display_data"
    }
   ],
   "source": [
    "plot_bar(df_train, \"red\", \"Train\")\n",
    "plot_bar(df_val, \"blue\", \"Validation\")\n",
    "plot_bar(df_test, \"green\", \"Test\")"
   ]
  },
  {
   "attachments": {},
   "cell_type": "markdown",
   "id": "600807f9",
   "metadata": {
    "id": "600807f9"
   },
   "source": [
    "# Words and labels vectorization\n",
    "To encode the text sequence to an integer sequence, we will use the **Tokenizer()** function from the Keras library. It's important to note that best practice is to fit the tokenizer on the training data only, to avoid introducing data leakage in the model. However, in our particular case, we are not considering a real-world scenario and have limited data at our disposal. Therefore, we are fitting the tokenizer over the entire dataset."
   ]
  },
  {
   "cell_type": "code",
   "execution_count": 19,
   "id": "be7fccf8",
   "metadata": {
    "id": "be7fccf8"
   },
   "outputs": [],
   "source": [
    "from keras.preprocessing.text import Tokenizer\n",
    "# words encoding \n",
    "word_tokenizer = Tokenizer(filters = '\\t\\n')                       # instantiate tokeniser\n",
    "word_tokenizer.fit_on_texts(df['words'])                           # fit tokeniser on data\n",
    "sentences_encoded = word_tokenizer.texts_to_sequences(df['words']) # use the tokeniser to encode input sequence"
   ]
  },
  {
   "cell_type": "code",
   "execution_count": 20,
   "id": "a32a67dc",
   "metadata": {
    "id": "a32a67dc"
   },
   "outputs": [],
   "source": [
    "# labels encoding \n",
    "label_tokenizer = Tokenizer()\n",
    "label_tokenizer.fit_on_texts(df['labels'])\n",
    "labels_encoded = label_tokenizer.texts_to_sequences(df['labels'])"
   ]
  },
  {
   "cell_type": "code",
   "execution_count": 21,
   "id": "da3ec12b",
   "metadata": {
    "colab": {
     "base_uri": "https://localhost:8080/"
    },
    "id": "da3ec12b",
    "outputId": "8d31916b-3c30-4b38-97ee-e06914dcc991"
   },
   "outputs": [
    {
     "name": "stdout",
     "output_type": "stream",
     "text": [
      "** Raw data point 1 **\n",
      "X:  ['pierre', 'vinken', ',', '61', 'years', 'old', ',', 'will', 'join', 'the', 'board', 'as', 'a', 'nonexecutive', 'director', 'nov.', '29', '.']\n",
      "Y:  ['NNP', 'NNP', ',', 'CD', 'NNS', 'JJ', ',', 'MD', 'VB', 'DT', 'NN', 'IN', 'DT', 'JJ', 'NN', 'NNP', 'CD', '.'] \n",
      "\n",
      "** Encoded data point 1 **\n",
      "X:  [5419, 3714, 1, 2005, 78, 316, 1, 39, 2383, 2, 122, 22, 6, 2006, 317, 444, 2007, 3]\n",
      "Y:  [3, 3, 7, 9, 5, 6, 7, 20, 12, 4, 1, 2, 4, 6, 1, 3, 9, 8] \n",
      "\n",
      "----------------------------------------------------------------------------------------------------\n",
      "** Raw data point 2 **\n",
      "X:  ['mr.', 'vinken', 'is', 'chairman', 'of', 'elsevier', 'n.v.', ',', 'the', 'dutch', 'publishing', 'group', '.']\n",
      "Y:  ['NNP', 'NNP', 'VBZ', 'NN', 'IN', 'NNP', 'NNP', ',', 'DT', 'NNP', 'VBG', 'NN', '.'] \n",
      "\n",
      "** Encoded data point 2 **\n",
      "X:  [26, 3714, 15, 167, 4, 5420, 2890, 1, 2, 2891, 621, 137, 3]\n",
      "Y:  [3, 3, 16, 1, 2, 3, 3, 7, 4, 3, 18, 1, 8] \n",
      "\n",
      "----------------------------------------------------------------------------------------------------\n",
      "** Raw data point 3 **\n",
      "X:  ['rudolph', 'agnew', ',', '55', 'years', 'old', 'and', 'former', 'chairman', 'of', 'consolidated', 'gold', 'fields', 'plc', ',', 'was', 'named', 'a', 'nonexecutive', 'director', 'of', 'this', 'british', 'industrial', 'conglomerate', '.']\n",
      "Y:  ['NNP', 'NNP', ',', 'CD', 'NNS', 'JJ', 'CC', 'JJ', 'NN', 'IN', 'NNP', 'NNP', 'NNP', 'NNP', ',', 'VBD', 'VBN', 'DT', 'JJ', 'NN', 'IN', 'DT', 'JJ', 'JJ', 'NN', '.'] \n",
      "\n",
      "** Encoded data point 3 **\n",
      "X:  [2892, 5421, 1, 1118, 78, 316, 8, 586, 167, 4, 3715, 1029, 876, 877, 1, 28, 468, 6, 2006, 317, 4, 44, 1030, 420, 2893, 3]\n",
      "Y:  [3, 3, 7, 9, 5, 6, 13, 6, 1, 2, 3, 3, 3, 3, 7, 10, 15, 4, 6, 1, 2, 4, 6, 6, 1, 8] \n",
      "\n",
      "----------------------------------------------------------------------------------------------------\n"
     ]
    }
   ],
   "source": [
    "# look at first encoded data point\n",
    "for i in range(3): \n",
    "    print(f\"** Raw data point {i+1} **\")\n",
    "    print('X: ', samples[i]['words'])\n",
    "    print('Y: ', samples[i]['labels'], '\\n')\n",
    "\n",
    "    print(f\"** Encoded data point {i+1} **\")\n",
    "    print('X: ', sentences_encoded[i])\n",
    "    print('Y: ', labels_encoded[i], '\\n')\n",
    "    print(\"-\"*100)"
   ]
  },
  {
   "cell_type": "code",
   "execution_count": 22,
   "id": "e14368b0",
   "metadata": {
    "colab": {
     "base_uri": "https://localhost:8080/"
    },
    "id": "e14368b0",
    "outputId": "4642826d-f14a-44f3-f886-2ef7e206ce02"
   },
   "outputs": [
    {
     "name": "stdout",
     "output_type": "stream",
     "text": [
      "0 sentences have disparate input-output lengths.\n"
     ]
    }
   ],
   "source": [
    "# make sure that each sequence of input and output is same length\n",
    "different_length = [1 if len(input) != len(output) else 0 for input, output in zip(sentences_encoded, labels_encoded)]\n",
    "print(\"{} sentences have disparate input-output lengths.\".format(sum(different_length)))"
   ]
  },
  {
   "cell_type": "markdown",
   "id": "bf5182bd",
   "metadata": {
    "id": "bf5182bd"
   },
   "source": [
    "# Pad sequences\n",
    "The next step after encoding the data is to **define the sequence lengths**. As of now, the sentences present in the data are of various lengths. We need to either pad short sentences or truncate long sentences to a fixed length. This fixed length, however, is a **hyperparameter**."
   ]
  },
  {
   "cell_type": "code",
   "execution_count": 23,
   "id": "104ec22d",
   "metadata": {
    "colab": {
     "base_uri": "https://localhost:8080/"
    },
    "id": "104ec22d",
    "outputId": "5562c620-903c-40ae-a1a0-d5f7fdb658bc"
   },
   "outputs": [
    {
     "name": "stdout",
     "output_type": "stream",
     "text": [
      "Length of longest sentence: 249\n"
     ]
    }
   ],
   "source": [
    "# check length of longest sentence\n",
    "lengths = [len(seq) for seq in sentences_encoded]\n",
    "print(\"Length of longest sentence: {}\".format(max(lengths)))"
   ]
  },
  {
   "cell_type": "code",
   "execution_count": 24,
   "id": "1c37871f",
   "metadata": {
    "colab": {
     "base_uri": "https://localhost:8080/",
     "height": 265
    },
    "id": "1c37871f",
    "outputId": "50d27c72-18f8-4f3b-b86c-f7b5b34268af",
    "scrolled": true
   },
   "outputs": [
    {
     "data": {
      "image/png": "[encoded data removed]",
      "text/plain": [
       "<Figure size 432x288 with 1 Axes>"
      ]
     },
     "metadata": {
      "needs_background": "light"
     },
     "output_type": "display_data"
    }
   ],
   "source": [
    "sns.boxplot(x = lengths)\n",
    "plt.show()"
   ]
  },
  {
   "cell_type": "markdown",
   "id": "AiGNQwKriyaO",
   "metadata": {
    "id": "AiGNQwKriyaO"
   },
   "source": [
    "Pad each sequence to **MAX_SEQ_LENGTH** using KERAS' *pad_sequences( )* function:  \n",
    "- Sentences longer than MAX_SEQ_LENGTH are truncated.\n",
    "- Sentences shorter than MAX_SEQ_LENGTH are padded with zeroes.\n",
    "\n",
    "Truncation and padding can either be 'pre' or 'post': \n",
    "- For **padding** we are using **'post'** padding type, that is, add zeroes on the right side.\n",
    "- For **truncation**, we are using **'post'**, that is, truncate a sentence from right side."
   ]
  },
  {
   "cell_type": "code",
   "execution_count": 25,
   "id": "da65c3a3",
   "metadata": {
    "id": "da65c3a3"
   },
   "outputs": [],
   "source": [
    "MAX_SEQ_LENGTH = 60  # sequences greater than 60 in length will be truncated\n",
    "\n",
    "X_padded = pad_sequences(sentences_encoded, maxlen=MAX_SEQ_LENGTH, padding=\"post\", truncating=\"post\")\n",
    "Y_padded = pad_sequences(labels_encoded, maxlen=MAX_SEQ_LENGTH, padding=\"post\", truncating=\"post\")"
   ]
  },
  {
   "cell_type": "code",
   "execution_count": 26,
   "id": "4b6f7837",
   "metadata": {
    "colab": {
     "base_uri": "https://localhost:8080/"
    },
    "id": "4b6f7837",
    "outputId": "17a6d38e-835e-4679-a3a7-515bbd2c63de"
   },
   "outputs": [
    {
     "name": "stdout",
     "output_type": "stream",
     "text": [
      "[5419 3714    1 2005   78  316    1   39 2383    2  122   22    6 2006\n",
      "  317  444 2007    3    0    0    0    0    0    0    0    0    0    0\n",
      "    0    0    0    0    0    0    0    0    0    0    0    0    0    0\n",
      "    0    0    0    0    0    0    0    0    0    0    0    0    0    0\n",
      "    0    0    0    0] \n",
      "\n",
      "\n",
      "\n",
      "[ 3  3  7  9  5  6  7 20 12  4  1  2  4  6  1  3  9  8  0  0  0  0  0  0\n",
      "  0  0  0  0  0  0  0  0  0  0  0  0  0  0  0  0  0  0  0  0  0  0  0  0\n",
      "  0  0  0  0  0  0  0  0  0  0  0  0]\n"
     ]
    }
   ],
   "source": [
    "# print the first sequence\n",
    "print(X_padded[0], \"\\n\"*3)\n",
    "print(Y_padded[0])"
   ]
  },
  {
   "cell_type": "code",
   "execution_count": 27,
   "id": "4fa308aa",
   "metadata": {
    "id": "4fa308aa"
   },
   "outputs": [],
   "source": [
    "# assign padded sequences to X and Y\n",
    "X, y = X_padded, Y_padded"
   ]
  },
  {
   "cell_type": "markdown",
   "id": "60087034",
   "metadata": {
    "id": "60087034"
   },
   "source": [
    "# Word and label embeddings\n",
    "Currently, each word and each label is encoded as an integer, but we need a better representation. For this reason we will use: \n",
    "- **word embeddings** with **GloVe model** to represent the input words \n",
    "- **one-hot encoding** to represent each label"
   ]
  },
  {
   "cell_type": "markdown",
   "id": "9986535c",
   "metadata": {
    "id": "9986535c"
   },
   "source": [
    "## 1. GloVe embedding for input words"
   ]
  },
  {
   "cell_type": "markdown",
   "id": "voX4Ac0zHs6g",
   "metadata": {
    "id": "voX4Ac0zHs6g"
   },
   "source": [
    "### Create a vocabulary index\n",
    "Let's use the Tokenizer to index the vocabulary found in the dataset. "
   ]
  },
  {
   "cell_type": "code",
   "execution_count": 28,
   "id": "gZQRU18SH53q",
   "metadata": {
    "id": "gZQRU18SH53q"
   },
   "outputs": [],
   "source": [
    "def get_word_index(df):\n",
    "    tokenizer = Tokenizer(filters = '\\t\\n')\n",
    "    tokenizer.fit_on_texts(df)\n",
    "    word_index = tokenizer.word_index\n",
    "    return word_index"
   ]
  },
  {
   "cell_type": "markdown",
   "id": "LJegCUWxBDxr",
   "metadata": {
    "id": "LJegCUWxBDxr"
   },
   "source": [
    "### Load pre-trained GloVe embeddings"
   ]
  },
  {
   "cell_type": "code",
   "execution_count": 29,
   "id": "97360ba7",
   "metadata": {
    "colab": {
     "base_uri": "https://localhost:8080/"
    },
    "id": "97360ba7",
    "outputId": "09ad413c-1046-43f4-e028-83f34f2228f6"
   },
   "outputs": [
    {
     "name": "stdout",
     "output_type": "stream",
     "text": [
      "[==================================================] 100.0% 376.1/376.1MB downloaded\n",
      "Found 400000 word vectors.\n"
     ]
    }
   ],
   "source": [
    "import gensim.downloader as api\n",
    "glove = api.load('glove-wiki-gigaword-300')\n",
    "print(\"Found %s word vectors.\" % len(glove.vectors))"
   ]
  },
  {
   "cell_type": "markdown",
   "id": "RCvYVjKdMQBd",
   "metadata": {
    "id": "RCvYVjKdMQBd"
   },
   "source": [
    "### Out-Of-Vocabulary words: Random Embedding\n",
    "The Out-Of-Vocabulary words (OOVs) are words which do not belong to the GloVe's vocabulary. However, we need to handle their embedding taking in mind that they must be STATIC embeddings (we cannot train them).\n",
    "\n",
    "In this case we opted for a **random embedding** such that each OOV is represented by a vector of 300 values within -0.5 and 0.5.\n"
   ]
  },
  {
   "cell_type": "markdown",
   "id": "s6NFTQ5vO4Gy",
   "metadata": {
    "id": "s6NFTQ5vO4Gy"
   },
   "source": [
    "### Embedding matrix\n",
    "Now, let's prepare a corresponding embedding matrix that we can use in a Keras Embedding layer. It's a simple NumPy matrix where entry at index i is the pre-trained vector for the word of index i in the corresponding tokenizer's vocabulary.\n",
    "\n",
    "We will compute an independent embedding for each split of the data. Therefore, if a word is present both in the training set and in the test split and not in the starting vocabulary, its embedding is computed only once (for the train split) and it is not considered as OOV twice."
   ]
  },
  {
   "cell_type": "code",
   "execution_count": 30,
   "id": "077c8512",
   "metadata": {
    "id": "077c8512"
   },
   "outputs": [],
   "source": [
    "def get_embedding_matrix(length_voc, word_index, oov_embedded = [], embedding_dim = 300 ):\n",
    "    num_tokens = length_voc + 1\n",
    "    hits = 0\n",
    "    misses = 0\n",
    "\n",
    "    # Prepare embedding matrix\n",
    "    embedding_matrix = np.zeros((num_tokens, embedding_dim))\n",
    "    for word, i in word_index.items():\n",
    "        if not(word in oov_embedded):\n",
    "            try: \n",
    "                embedding_vector = glove.get_vector(word)\n",
    "                embedding_matrix[i] = embedding_vector\n",
    "                hits += 1\n",
    "            except:\n",
    "                #oov management\n",
    "                embedding_matrix[i] = np.random.uniform(low=-0.05, high=0.05, size=embedding_dim)\n",
    "                misses += 1\n",
    "                oov_embedded.append(word)\n",
    "\n",
    "    return embedding_matrix, hits, misses, oov_embedded"
   ]
  },
  {
   "cell_type": "code",
   "execution_count": 31,
   "id": "53KjakJyeGko",
   "metadata": {
    "id": "53KjakJyeGko"
   },
   "outputs": [],
   "source": [
    "train = df.index[df.split == 'train'].to_list()\n",
    "val = df.index[df.split == 'val'].to_list()\n",
    "test = df.index[df.split == 'test'].to_list()"
   ]
  },
  {
   "cell_type": "code",
   "execution_count": 32,
   "id": "59bd92df",
   "metadata": {
    "colab": {
     "base_uri": "https://localhost:8080/"
    },
    "id": "59bd92df",
    "outputId": "8ea90bf6-77b2-455f-a235-fd5b49fcd4cf"
   },
   "outputs": [
    {
     "name": "stdout",
     "output_type": "stream",
     "text": [
      "7404\n",
      "Embedding matrix shape: (7405, 300)\n",
      "Converted 7045 words (359 misses)\n"
     ]
    }
   ],
   "source": [
    "# Step 1: creation of vocabulary for the training set and extraction of his OOVs.\n",
    "word_index_train = get_word_index(df.words.iloc[train])\n",
    "print(len(word_index_train.keys()))\n",
    "embedding_matrix_train, hits, misses, oov_embedded = get_embedding_matrix(len(word_index_train.keys()), word_index_train)\n",
    "#print(oov_embedded)\n",
    "print(\"Embedding matrix shape: {}\".format(embedding_matrix_train.shape))\n",
    "print(\"Converted %d words (%d misses)\" % (hits, misses))"
   ]
  },
  {
   "cell_type": "code",
   "execution_count": 33,
   "id": "fb8153b9",
   "metadata": {
    "colab": {
     "base_uri": "https://localhost:8080/"
    },
    "id": "fb8153b9",
    "outputId": "774c83b2-b6cd-43e8-96f5-38614344fe70"
   },
   "outputs": [
    {
     "name": "stdout",
     "output_type": "stream",
     "text": [
      "Embedding matrix shape: (5421, 300)\n",
      "Converted 5207 words (189 misses)\n"
     ]
    }
   ],
   "source": [
    "# Step 2: creation of vocabulary for the validation set and extraction of his OOVs.\n",
    "word_index_val = get_word_index(df.words.iloc[val])\n",
    "\n",
    "embedding_matrix_val, hits, misses, oov_embedded = get_embedding_matrix(len(word_index_val.keys()), word_index_val, oov_embedded)\n",
    "print(\"Embedding matrix shape: {}\".format(embedding_matrix_val.shape))\n",
    "print(\"Converted %d words (%d misses)\" % (hits, misses))"
   ]
  },
  {
   "cell_type": "code",
   "execution_count": 34,
   "id": "69fd5187",
   "metadata": {
    "colab": {
     "base_uri": "https://localhost:8080/"
    },
    "id": "69fd5187",
    "outputId": "ba20369d-e22f-4f7e-e890-ef0849b8fddc"
   },
   "outputs": [
    {
     "name": "stdout",
     "output_type": "stream",
     "text": [
      "Embedding matrix shape: (3408, 300)\n",
      "Converted 3246 words (128 misses)\n"
     ]
    }
   ],
   "source": [
    "# Step 3: creation of vocabulary for the validation set and extraction of his OOVs.\n",
    "word_index_test = get_word_index(df.words.iloc[test])\n",
    "\n",
    "embedding_matrix_test, hits, misses, oov_embedded = get_embedding_matrix(len(word_index_test.keys()), word_index_test, oov_embedded)\n",
    "print(\"Embedding matrix shape: {}\".format(embedding_matrix_test.shape))\n",
    "print(\"Converted %d words (%d misses)\" % (hits, misses))"
   ]
  },
  {
   "cell_type": "code",
   "execution_count": 35,
   "id": "178e33d5",
   "metadata": {
    "colab": {
     "base_uri": "https://localhost:8080/"
    },
    "id": "178e33d5",
    "outputId": "539cd907-85d6-493c-f3c5-dc0a6367dfbd"
   },
   "outputs": [
    {
     "name": "stdout",
     "output_type": "stream",
     "text": [
      "Embedding matrix shape: (16234, 300).\n"
     ]
    }
   ],
   "source": [
    "# Whole embedding matrix.\n",
    "embedding_matrix = np.concatenate((embedding_matrix_train, embedding_matrix_val, embedding_matrix_test))\n",
    "print(\"Embedding matrix shape: {}.\".format(embedding_matrix.shape))"
   ]
  },
  {
   "cell_type": "markdown",
   "id": "cSlLi1JDFrqr",
   "metadata": {
    "id": "cSlLi1JDFrqr"
   },
   "source": [
    "### Creation of the Embedding layer "
   ]
  },
  {
   "cell_type": "code",
   "execution_count": 36,
   "id": "0c8efa58",
   "metadata": {
    "id": "0c8efa58"
   },
   "outputs": [],
   "source": [
    "from tensorflow.keras.layers import Embedding, Dense, LSTM, Bidirectional, TimeDistributed, GRU\n",
    "\n",
    "embedding_layer = Embedding(\n",
    "    embedding_matrix.shape[0],\n",
    "    300,\n",
    "    embeddings_initializer=keras.initializers.Constant(embedding_matrix),\n",
    "    trainable=False,\n",
    "    mask_zero = True\n",
    ")"
   ]
  },
  {
   "cell_type": "markdown",
   "id": "bff7f501",
   "metadata": {
    "id": "bff7f501"
   },
   "source": [
    "## 2. One-hot encoding for output sequences"
   ]
  },
  {
   "cell_type": "code",
   "execution_count": 37,
   "id": "61a5aadf",
   "metadata": {
    "colab": {
     "base_uri": "https://localhost:8080/"
    },
    "id": "61a5aadf",
    "outputId": "b74a8014-914c-4759-cfea-35a8f993d083"
   },
   "outputs": [
    {
     "name": "stdout",
     "output_type": "stream",
     "text": [
      "(3914, 60, 46)\n"
     ]
    }
   ],
   "source": [
    "# use Keras' to_categorical function to one-hot encode Y\n",
    "Y = to_categorical(y)\n",
    "\n",
    "# print Y of the first output sequqnce\n",
    "print(Y.shape)"
   ]
  },
  {
   "cell_type": "markdown",
   "id": "28914ec2",
   "metadata": {
    "id": "28914ec2"
   },
   "source": [
    "# Split data in train, validation and test sets"
   ]
  },
  {
   "cell_type": "code",
   "execution_count": 38,
   "id": "ETTW3QQZc_Q1",
   "metadata": {
    "id": "ETTW3QQZc_Q1"
   },
   "outputs": [],
   "source": [
    "X_train, Y_train = X[train], Y[train]\n",
    "X_val, Y_val = X[val], Y[val]\n",
    "X_test, Y_test = X[test], Y[test]"
   ]
  },
  {
   "cell_type": "code",
   "execution_count": 39,
   "id": "4a9b93b5",
   "metadata": {
    "colab": {
     "base_uri": "https://localhost:8080/"
    },
    "id": "4a9b93b5",
    "outputId": "3a7ddb4f-e3f2-46d3-e19c-0dd9f3e0ffcf"
   },
   "outputs": [
    {
     "name": "stdout",
     "output_type": "stream",
     "text": [
      "TRAINING DATA\n",
      "Shape of input sequences: (1963, 60)\n",
      "Shape of output sequences: (1963, 60, 46)\n",
      "--------------------------------------------------\n",
      "VALIDATION DATA\n",
      "Shape of input sequences: (1299, 60)\n",
      "Shape of output sequences: (1299, 60, 46)\n",
      "--------------------------------------------------\n",
      "TESTING DATA\n",
      "Shape of input sequences: (652, 60)\n",
      "Shape of output sequences: (652, 60, 46)\n"
     ]
    }
   ],
   "source": [
    "# print number of samples in each set\n",
    "print(\"TRAINING DATA\")\n",
    "print('Shape of input sequences: {}'.format(X_train.shape))\n",
    "print('Shape of output sequences: {}'.format(Y_train.shape))\n",
    "print(\"-\"*50)\n",
    "print(\"VALIDATION DATA\")\n",
    "print('Shape of input sequences: {}'.format(X_val.shape))\n",
    "print('Shape of output sequences: {}'.format(Y_val.shape))\n",
    "print(\"-\"*50)\n",
    "print(\"TESTING DATA\")\n",
    "print('Shape of input sequences: {}'.format(X_test.shape))\n",
    "print('Shape of output sequences: {}'.format(Y_test.shape))"
   ]
  },
  {
   "cell_type": "markdown",
   "id": "n5GuOEG7nadt",
   "metadata": {
    "id": "n5GuOEG7nadt"
   },
   "source": [
    "# General setup for training phase"
   ]
  },
  {
   "cell_type": "markdown",
   "id": "94501e19",
   "metadata": {
    "id": "94501e19"
   },
   "source": [
    "## Callbacks"
   ]
  },
  {
   "cell_type": "code",
   "execution_count": 66,
   "id": "b3318ff9",
   "metadata": {
    "id": "b3318ff9"
   },
   "outputs": [],
   "source": [
    "# ReduceLROnPlateau\n",
    "reduce_on_plateau_callback = tf.keras.callbacks.ReduceLROnPlateau(\n",
    "    monitor='val_loss', \n",
    "    factor=0.5, \n",
    "    patience=3, \n",
    "    verbose=1, \n",
    "    mode='min')\n",
    "\n",
    "# ModelCheckpoint\n",
    "checkpoint_filepath = '/tmp/checkpoint'\n",
    "model_checkpoint_callback = tf.keras.callbacks.ModelCheckpoint(\n",
    "    filepath=checkpoint_filepath,\n",
    "    save_weights_only=True,\n",
    "    monitor='val_acc',\n",
    "    mode='max',\n",
    "    save_best_only=True)\n",
    "\n",
    "early_stopping_callbacks = tf.keras.callbacks.EarlyStopping(\n",
    "                            monitor = \"val_loss\", \n",
    "                            patience = 10,\n",
    "                            verbose = 1,\n",
    "                            mode = \"auto\")\n",
    "\n",
    "callbacks = [\n",
    "    reduce_on_plateau_callback,\n",
    "    early_stopping_callbacks,\n",
    "    model_checkpoint_callback,\n",
    "]"
   ]
  },
  {
   "cell_type": "markdown",
   "id": "fd766442",
   "metadata": {
    "id": "fd766442"
   },
   "source": [
    "## History Plot"
   ]
  },
  {
   "cell_type": "code",
   "execution_count": 41,
   "id": "48a23347",
   "metadata": {
    "id": "48a23347"
   },
   "outputs": [],
   "source": [
    "def plot_history(history):\n",
    "    fig = plt.figure(figsize=(15,7))\n",
    "    \n",
    "    ax1 = fig.add_subplot(121)\n",
    "    ax1.plot(history.history['acc'])\n",
    "    ax1.plot(history.history['val_acc'])\n",
    "    ax1.legend([\"train\", \"val\"])\n",
    "    ax1.set_title('model accuracy')\n",
    "    ax1.set_xlabel('epoch') \n",
    "    ax1.set_ylabel('accuracy')\n",
    "\n",
    "    ax2 = fig.add_subplot(122)\n",
    "    ax2.plot(history.history['loss'])\n",
    "    ax2.plot(history.history['val_loss'])\n",
    "    ax2.legend([\"train\", \"val\"])\n",
    "    ax2.set_title('model loss')\n",
    "    ax2.set_xlabel('epoch') \n",
    "    ax2.set_ylabel('loss')\n",
    "\n",
    "    plt.show()"
   ]
  },
  {
   "cell_type": "markdown",
   "id": "59849a85",
   "metadata": {
    "id": "59849a85"
   },
   "source": [
    "# Baseline Model"
   ]
  },
  {
   "cell_type": "markdown",
   "id": "8ce344ac",
   "metadata": {
    "id": "8ce344ac"
   },
   "source": [
    "**Model architecture**"
   ]
  },
  {
   "cell_type": "code",
   "execution_count": 110,
   "id": "6a0b7d91",
   "metadata": {
    "colab": {
     "base_uri": "https://localhost:8080/"
    },
    "id": "6a0b7d91",
    "outputId": "8c8bb8b4-de0d-42e2-f539-a7bec743f8df",
    "scrolled": false
   },
   "outputs": [
    {
     "name": "stdout",
     "output_type": "stream",
     "text": [
      "Model: \"sequential\"\n",
      "_________________________________________________________________\n",
      " Layer (type)                Output Shape              Param #   \n",
      "=================================================================\n",
      " embedding (Embedding)       (None, None, 300)         4870200   \n",
      "                                                                 \n",
      " bidirectional (Bidirectiona  (None, None, 256)        439296    \n",
      " l)                                                              \n",
      "                                                                 \n",
      " dense (Dense)               (None, None, 46)          11822     \n",
      "                                                                 \n",
      "=================================================================\n",
      "Total params: 5,321,318\n",
      "Trainable params: 451,118\n",
      "Non-trainable params: 4,870,200\n",
      "_________________________________________________________________\n",
      "None\n"
     ]
    }
   ],
   "source": [
    "## BASELINE MODEL \n",
    "tf.keras.backend.clear_session()\n",
    "model = tf.keras.models.Sequential([\n",
    "    embedding_layer,\n",
    "    Bidirectional(LSTM(128, return_sequences=True, dropout=0.5)),\n",
    "    Dense(46, activation='softmax')\n",
    "])\n",
    "print(model.summary())\n",
    "# plot_model(model, show_shapes=True, show_layer_names=True)"
   ]
  },
  {
   "cell_type": "markdown",
   "id": "34e2aa3f",
   "metadata": {
    "id": "34e2aa3f"
   },
   "source": [
    "**Compile model**"
   ]
  },
  {
   "cell_type": "code",
   "execution_count": 111,
   "id": "1b1682a2",
   "metadata": {
    "id": "1b1682a2"
   },
   "outputs": [],
   "source": [
    "model.compile(\n",
    "    loss=\"categorical_crossentropy\", optimizer=tf.keras.optimizers.Adam(\n",
    "    learning_rate=0.01), metrics=[\"acc\"]\n",
    ")"
   ]
  },
  {
   "cell_type": "markdown",
   "id": "05ff64be",
   "metadata": {
    "id": "05ff64be"
   },
   "source": [
    "**Fit model**"
   ]
  },
  {
   "cell_type": "code",
   "execution_count": 112,
   "id": "32f19179",
   "metadata": {
    "colab": {
     "base_uri": "https://localhost:8080/"
    },
    "id": "32f19179",
    "outputId": "d08754d0-dda6-421b-9928-a678f8e72716"
   },
   "outputs": [
    {
     "name": "stdout",
     "output_type": "stream",
     "text": [
      "Epoch 1/100\n",
      "4/4 [==============================] - 14s 2s/step - loss: 1.2605 - acc: 0.1656 - val_loss: 1.0138 - val_acc: 0.3499 - lr: 0.0100\n",
      "Epoch 2/100\n",
      "4/4 [==============================] - 6s 2s/step - loss: 0.8886 - acc: 0.4063 - val_loss: 0.7621 - val_acc: 0.4668 - lr: 0.0100\n",
      "Epoch 3/100\n",
      "4/4 [==============================] - 6s 2s/step - loss: 0.6980 - acc: 0.5081 - val_loss: 0.6388 - val_acc: 0.5479 - lr: 0.0100\n",
      "Epoch 4/100\n",
      "4/4 [==============================] - 6s 2s/step - loss: 0.5955 - acc: 0.5748 - val_loss: 0.5619 - val_acc: 0.5923 - lr: 0.0100\n",
      "Epoch 5/100\n",
      "4/4 [==============================] - 6s 2s/step - loss: 0.5278 - acc: 0.6144 - val_loss: 0.5079 - val_acc: 0.6243 - lr: 0.0100\n",
      "Epoch 6/100\n",
      "4/4 [==============================] - 6s 2s/step - loss: 0.4792 - acc: 0.6398 - val_loss: 0.4658 - val_acc: 0.6457 - lr: 0.0100\n",
      "Epoch 7/100\n",
      "4/4 [==============================] - 6s 2s/step - loss: 0.4422 - acc: 0.6665 - val_loss: 0.4309 - val_acc: 0.6729 - lr: 0.0100\n",
      "Epoch 8/100\n",
      "4/4 [==============================] - 7s 2s/step - loss: 0.4105 - acc: 0.6904 - val_loss: 0.4053 - val_acc: 0.6902 - lr: 0.0100\n",
      "Epoch 9/100\n",
      "4/4 [==============================] - 6s 2s/step - loss: 0.3844 - acc: 0.7069 - val_loss: 0.3802 - val_acc: 0.7104 - lr: 0.0100\n",
      "Epoch 10/100\n",
      "4/4 [==============================] - 6s 2s/step - loss: 0.3609 - acc: 0.7263 - val_loss: 0.3622 - val_acc: 0.7227 - lr: 0.0100\n",
      "Epoch 11/100\n",
      "4/4 [==============================] - 6s 2s/step - loss: 0.3421 - acc: 0.7378 - val_loss: 0.3462 - val_acc: 0.7345 - lr: 0.0100\n",
      "Epoch 12/100\n",
      "4/4 [==============================] - 6s 2s/step - loss: 0.3248 - acc: 0.7502 - val_loss: 0.3350 - val_acc: 0.7419 - lr: 0.0100\n",
      "Epoch 13/100\n",
      "4/4 [==============================] - 6s 2s/step - loss: 0.3091 - acc: 0.7628 - val_loss: 0.3213 - val_acc: 0.7519 - lr: 0.0100\n",
      "Epoch 14/100\n",
      "4/4 [==============================] - 6s 2s/step - loss: 0.2931 - acc: 0.7761 - val_loss: 0.3123 - val_acc: 0.7582 - lr: 0.0100\n",
      "Epoch 15/100\n",
      "4/4 [==============================] - 6s 2s/step - loss: 0.2805 - acc: 0.7844 - val_loss: 0.3044 - val_acc: 0.7641 - lr: 0.0100\n",
      "Epoch 16/100\n",
      "4/4 [==============================] - 6s 2s/step - loss: 0.2693 - acc: 0.7929 - val_loss: 0.2952 - val_acc: 0.7718 - lr: 0.0100\n",
      "Epoch 17/100\n",
      "4/4 [==============================] - 6s 2s/step - loss: 0.2550 - acc: 0.8039 - val_loss: 0.2881 - val_acc: 0.7753 - lr: 0.0100\n",
      "Epoch 18/100\n",
      "4/4 [==============================] - 6s 2s/step - loss: 0.2450 - acc: 0.8111 - val_loss: 0.2821 - val_acc: 0.7805 - lr: 0.0100\n",
      "Epoch 19/100\n",
      "4/4 [==============================] - 6s 2s/step - loss: 0.2328 - acc: 0.8216 - val_loss: 0.2811 - val_acc: 0.7826 - lr: 0.0100\n",
      "Epoch 20/100\n",
      "4/4 [==============================] - 6s 2s/step - loss: 0.2238 - acc: 0.8286 - val_loss: 0.2709 - val_acc: 0.7891 - lr: 0.0100\n",
      "Epoch 21/100\n",
      "4/4 [==============================] - 6s 2s/step - loss: 0.2148 - acc: 0.8356 - val_loss: 0.2650 - val_acc: 0.7947 - lr: 0.0100\n",
      "Epoch 22/100\n",
      "4/4 [==============================] - 6s 2s/step - loss: 0.2060 - acc: 0.8427 - val_loss: 0.2633 - val_acc: 0.7972 - lr: 0.0100\n",
      "Epoch 23/100\n",
      "4/4 [==============================] - 6s 2s/step - loss: 0.1965 - acc: 0.8497 - val_loss: 0.2679 - val_acc: 0.7934 - lr: 0.0100\n",
      "Epoch 24/100\n",
      "4/4 [==============================] - 6s 2s/step - loss: 0.1996 - acc: 0.8441 - val_loss: 0.2588 - val_acc: 0.8021 - lr: 0.0100\n",
      "Epoch 25/100\n",
      "4/4 [==============================] - 6s 2s/step - loss: 0.1873 - acc: 0.8552 - val_loss: 0.2548 - val_acc: 0.8057 - lr: 0.0100\n",
      "Epoch 26/100\n",
      "4/4 [==============================] - 6s 2s/step - loss: 0.1799 - acc: 0.8615 - val_loss: 0.2555 - val_acc: 0.8065 - lr: 0.0100\n",
      "Epoch 27/100\n",
      "4/4 [==============================] - 6s 2s/step - loss: 0.1731 - acc: 0.8681 - val_loss: 0.2516 - val_acc: 0.8100 - lr: 0.0100\n",
      "Epoch 28/100\n",
      "4/4 [==============================] - 6s 2s/step - loss: 0.1638 - acc: 0.8743 - val_loss: 0.2499 - val_acc: 0.8101 - lr: 0.0100\n",
      "Epoch 29/100\n",
      "4/4 [==============================] - 6s 2s/step - loss: 0.1593 - acc: 0.8772 - val_loss: 0.2462 - val_acc: 0.8145 - lr: 0.0100\n",
      "Epoch 30/100\n",
      "4/4 [==============================] - 7s 2s/step - loss: 0.1539 - acc: 0.8811 - val_loss: 0.2457 - val_acc: 0.8166 - lr: 0.0100\n",
      "Epoch 31/100\n",
      "4/4 [==============================] - 6s 2s/step - loss: 0.1473 - acc: 0.8871 - val_loss: 0.2438 - val_acc: 0.8181 - lr: 0.0100\n",
      "Epoch 32/100\n",
      "4/4 [==============================] - 6s 2s/step - loss: 0.1437 - acc: 0.8895 - val_loss: 0.2456 - val_acc: 0.8167 - lr: 0.0100\n",
      "Epoch 33/100\n",
      "4/4 [==============================] - 6s 2s/step - loss: 0.1392 - acc: 0.8925 - val_loss: 0.2421 - val_acc: 0.8200 - lr: 0.0100\n",
      "Epoch 34/100\n",
      "4/4 [==============================] - 6s 2s/step - loss: 0.1355 - acc: 0.8974 - val_loss: 0.2411 - val_acc: 0.8239 - lr: 0.0100\n",
      "Epoch 35/100\n",
      "4/4 [==============================] - 6s 2s/step - loss: 0.1315 - acc: 0.8980 - val_loss: 0.2395 - val_acc: 0.8230 - lr: 0.0100\n",
      "Epoch 36/100\n",
      "4/4 [==============================] - 6s 2s/step - loss: 0.1281 - acc: 0.9014 - val_loss: 0.2424 - val_acc: 0.8208 - lr: 0.0100\n",
      "Epoch 37/100\n",
      "4/4 [==============================] - 6s 2s/step - loss: 0.1271 - acc: 0.8981 - val_loss: 0.2442 - val_acc: 0.8213 - lr: 0.0100\n",
      "Epoch 38/100\n",
      "4/4 [==============================] - ETA: 0s - loss: 0.1227 - acc: 0.9052\n",
      "Epoch 38: ReduceLROnPlateau reducing learning rate to 0.004999999888241291.\n",
      "4/4 [==============================] - 6s 2s/step - loss: 0.1227 - acc: 0.9052 - val_loss: 0.2422 - val_acc: 0.8251 - lr: 0.0100\n",
      "Epoch 39/100\n",
      "4/4 [==============================] - 6s 2s/step - loss: 0.1194 - acc: 0.9072 - val_loss: 0.2400 - val_acc: 0.8255 - lr: 0.0050\n",
      "Epoch 40/100\n",
      "4/4 [==============================] - 6s 2s/step - loss: 0.1163 - acc: 0.9082 - val_loss: 0.2391 - val_acc: 0.8263 - lr: 0.0050\n",
      "Epoch 41/100\n",
      "4/4 [==============================] - 6s 2s/step - loss: 0.1146 - acc: 0.9111 - val_loss: 0.2391 - val_acc: 0.8271 - lr: 0.0050\n",
      "Epoch 42/100\n",
      "4/4 [==============================] - 6s 2s/step - loss: 0.1124 - acc: 0.9124 - val_loss: 0.2392 - val_acc: 0.8272 - lr: 0.0050\n",
      "Epoch 43/100\n",
      "4/4 [==============================] - ETA: 0s - loss: 0.1105 - acc: 0.9139\n",
      "Epoch 43: ReduceLROnPlateau reducing learning rate to 0.0024999999441206455.\n",
      "4/4 [==============================] - 6s 2s/step - loss: 0.1105 - acc: 0.9139 - val_loss: 0.2403 - val_acc: 0.8268 - lr: 0.0050\n",
      "Epoch 44/100\n",
      "4/4 [==============================] - 6s 2s/step - loss: 0.1079 - acc: 0.9177 - val_loss: 0.2383 - val_acc: 0.8284 - lr: 0.0025\n",
      "Epoch 45/100\n",
      "4/4 [==============================] - 6s 2s/step - loss: 0.1060 - acc: 0.9184 - val_loss: 0.2388 - val_acc: 0.8285 - lr: 0.0025\n",
      "Epoch 46/100\n",
      "4/4 [==============================] - 6s 2s/step - loss: 0.1045 - acc: 0.9191 - val_loss: 0.2397 - val_acc: 0.8285 - lr: 0.0025\n",
      "Epoch 47/100\n",
      "4/4 [==============================] - ETA: 0s - loss: 0.1053 - acc: 0.9179\n",
      "Epoch 47: ReduceLROnPlateau reducing learning rate to 0.0012499999720603228.\n",
      "4/4 [==============================] - 6s 2s/step - loss: 0.1053 - acc: 0.9179 - val_loss: 0.2390 - val_acc: 0.8289 - lr: 0.0025\n",
      "Epoch 48/100\n",
      "4/4 [==============================] - 6s 2s/step - loss: 0.1026 - acc: 0.9203 - val_loss: 0.2382 - val_acc: 0.8293 - lr: 0.0012\n",
      "Epoch 49/100\n",
      "4/4 [==============================] - 6s 2s/step - loss: 0.1039 - acc: 0.9201 - val_loss: 0.2383 - val_acc: 0.8292 - lr: 0.0012\n",
      "Epoch 50/100\n",
      "4/4 [==============================] - 6s 2s/step - loss: 0.1030 - acc: 0.9196 - val_loss: 0.2391 - val_acc: 0.8293 - lr: 0.0012\n",
      "Epoch 51/100\n",
      "4/4 [==============================] - ETA: 0s - loss: 0.1018 - acc: 0.9219\n",
      "Epoch 51: ReduceLROnPlateau reducing learning rate to 0.0006249999860301614.\n",
      "4/4 [==============================] - 7s 2s/step - loss: 0.1018 - acc: 0.9219 - val_loss: 0.2386 - val_acc: 0.8302 - lr: 0.0012\n",
      "Epoch 52/100\n",
      "4/4 [==============================] - 6s 2s/step - loss: 0.1009 - acc: 0.9218 - val_loss: 0.2381 - val_acc: 0.8304 - lr: 6.2500e-04\n",
      "Epoch 53/100\n",
      "4/4 [==============================] - 6s 2s/step - loss: 0.1008 - acc: 0.9225 - val_loss: 0.2379 - val_acc: 0.8300 - lr: 6.2500e-04\n",
      "Epoch 54/100\n",
      "4/4 [==============================] - 6s 2s/step - loss: 0.1005 - acc: 0.9217 - val_loss: 0.2379 - val_acc: 0.8298 - lr: 6.2500e-04\n",
      "Epoch 55/100\n",
      "4/4 [==============================] - 6s 2s/step - loss: 0.0996 - acc: 0.9236 - val_loss: 0.2380 - val_acc: 0.8300 - lr: 6.2500e-04\n",
      "Epoch 56/100\n",
      "4/4 [==============================] - ETA: 0s - loss: 0.0994 - acc: 0.9229\n",
      "Epoch 56: ReduceLROnPlateau reducing learning rate to 0.0003124999930150807.\n",
      "4/4 [==============================] - 6s 2s/step - loss: 0.0994 - acc: 0.9229 - val_loss: 0.2381 - val_acc: 0.8302 - lr: 6.2500e-04\n",
      "Epoch 57/100\n",
      "4/4 [==============================] - 6s 2s/step - loss: 0.0999 - acc: 0.9232 - val_loss: 0.2379 - val_acc: 0.8300 - lr: 3.1250e-04\n",
      "Epoch 58/100\n",
      "4/4 [==============================] - 6s 2s/step - loss: 0.1002 - acc: 0.9230 - val_loss: 0.2379 - val_acc: 0.8307 - lr: 3.1250e-04\n",
      "Epoch 59/100\n",
      "4/4 [==============================] - ETA: 0s - loss: 0.0982 - acc: 0.9240\n",
      "Epoch 59: ReduceLROnPlateau reducing learning rate to 0.00015624999650754035.\n",
      "4/4 [==============================] - 6s 2s/step - loss: 0.0982 - acc: 0.9240 - val_loss: 0.2379 - val_acc: 0.8304 - lr: 3.1250e-04\n",
      "Epoch 60/100\n",
      "4/4 [==============================] - 6s 2s/step - loss: 0.0987 - acc: 0.9242 - val_loss: 0.2378 - val_acc: 0.8304 - lr: 1.5625e-04\n",
      "Epoch 61/100\n",
      "4/4 [==============================] - 6s 2s/step - loss: 0.0987 - acc: 0.9260 - val_loss: 0.2378 - val_acc: 0.8307 - lr: 1.5625e-04\n",
      "Epoch 62/100\n",
      "4/4 [==============================] - 6s 2s/step - loss: 0.0987 - acc: 0.9246 - val_loss: 0.2378 - val_acc: 0.8306 - lr: 1.5625e-04\n",
      "Epoch 63/100\n",
      "4/4 [==============================] - 6s 2s/step - loss: 0.1002 - acc: 0.9232 - val_loss: 0.2377 - val_acc: 0.8306 - lr: 1.5625e-04\n",
      "Epoch 64/100\n",
      "4/4 [==============================] - 6s 2s/step - loss: 0.0983 - acc: 0.9245 - val_loss: 0.2378 - val_acc: 0.8305 - lr: 1.5625e-04\n",
      "Epoch 65/100\n",
      "4/4 [==============================] - ETA: 0s - loss: 0.0989 - acc: 0.9248\n",
      "Epoch 65: ReduceLROnPlateau reducing learning rate to 7.812499825377017e-05.\n",
      "4/4 [==============================] - 6s 2s/step - loss: 0.0989 - acc: 0.9248 - val_loss: 0.2379 - val_acc: 0.8305 - lr: 1.5625e-04\n",
      "Epoch 66/100\n",
      "4/4 [==============================] - 6s 2s/step - loss: 0.0992 - acc: 0.9224 - val_loss: 0.2380 - val_acc: 0.8304 - lr: 7.8125e-05\n",
      "Epoch 67/100\n",
      "4/4 [==============================] - 6s 2s/step - loss: 0.0994 - acc: 0.9234 - val_loss: 0.2380 - val_acc: 0.8304 - lr: 7.8125e-05\n",
      "Epoch 68/100\n",
      "4/4 [==============================] - ETA: 0s - loss: 0.0992 - acc: 0.9236\n",
      "Epoch 68: ReduceLROnPlateau reducing learning rate to 3.9062499126885086e-05.\n",
      "4/4 [==============================] - 6s 2s/step - loss: 0.0992 - acc: 0.9236 - val_loss: 0.2379 - val_acc: 0.8303 - lr: 7.8125e-05\n",
      "Epoch 69/100\n",
      "4/4 [==============================] - 6s 2s/step - loss: 0.0990 - acc: 0.9231 - val_loss: 0.2379 - val_acc: 0.8303 - lr: 3.9062e-05\n",
      "Epoch 70/100\n",
      "4/4 [==============================] - 6s 2s/step - loss: 0.0985 - acc: 0.9252 - val_loss: 0.2379 - val_acc: 0.8302 - lr: 3.9062e-05\n",
      "Epoch 71/100\n",
      "4/4 [==============================] - ETA: 0s - loss: 0.0981 - acc: 0.9243\n",
      "Epoch 71: ReduceLROnPlateau reducing learning rate to 1.9531249563442543e-05.\n",
      "4/4 [==============================] - 6s 2s/step - loss: 0.0981 - acc: 0.9243 - val_loss: 0.2379 - val_acc: 0.8303 - lr: 3.9062e-05\n",
      "Epoch 72/100\n",
      "4/4 [==============================] - 6s 2s/step - loss: 0.1001 - acc: 0.9241 - val_loss: 0.2379 - val_acc: 0.8304 - lr: 1.9531e-05\n",
      "Epoch 73/100\n",
      "4/4 [==============================] - 7s 2s/step - loss: 0.0982 - acc: 0.9248 - val_loss: 0.2378 - val_acc: 0.8304 - lr: 1.9531e-05\n",
      "Epoch 73: early stopping\n"
     ]
    }
   ],
   "source": [
    "history = model.fit(X_train, \n",
    "                    Y_train, \n",
    "                    validation_data=(X_val, Y_val), \n",
    "                    batch_size=512, \n",
    "                    epochs=100, \n",
    "                    callbacks=callbacks)"
   ]
  },
  {
   "cell_type": "markdown",
   "id": "1CyHDFSY47wV",
   "metadata": {
    "id": "1CyHDFSY47wV"
   },
   "source": [
    "**Plot history**"
   ]
  },
  {
   "cell_type": "code",
   "execution_count": 113,
   "id": "2XDXikKg2sgS",
   "metadata": {
    "colab": {
     "base_uri": "https://localhost:8080/",
     "height": 458
    },
    "id": "2XDXikKg2sgS",
    "outputId": "c961c615-cad3-4f4f-af35-1a1d31186a1c"
   },
   "outputs": [
    {
     "data": {
      "image/png": "[encoded data removed]",
      "text/plain": [
       "<Figure size 1080x504 with 2 Axes>"
      ]
     },
     "metadata": {
      "needs_background": "light"
     },
     "output_type": "display_data"
    }
   ],
   "source": [
    "plot_history(history)"
   ]
  },
  {
   "cell_type": "markdown",
   "id": "WZSujYBHLz_J",
   "metadata": {
    "id": "WZSujYBHLz_J"
   },
   "source": [
    "# Baseline Model variations"
   ]
  },
  {
   "cell_type": "markdown",
   "id": "LcRvORA1QMaE",
   "metadata": {
    "id": "LcRvORA1QMaE"
   },
   "source": [
    "## 1. GRU layer instead of LSTM layer\n"
   ]
  },
  {
   "cell_type": "markdown",
   "id": "SV1wc-pb3VaN",
   "metadata": {
    "id": "SV1wc-pb3VaN"
   },
   "source": [
    "**Model architecture**"
   ]
  },
  {
   "cell_type": "code",
   "execution_count": 114,
   "id": "5RnZ0axCOREg",
   "metadata": {
    "colab": {
     "base_uri": "https://localhost:8080/",
     "height": 743
    },
    "id": "5RnZ0axCOREg",
    "outputId": "2d60f899-4fd3-4c3f-eca8-90bb8fafd600"
   },
   "outputs": [
    {
     "name": "stdout",
     "output_type": "stream",
     "text": [
      "Model: \"sequential\"\n",
      "_________________________________________________________________\n",
      " Layer (type)                Output Shape              Param #   \n",
      "=================================================================\n",
      " embedding (Embedding)       (None, None, 300)         4870200   \n",
      "                                                                 \n",
      " bidirectional (Bidirectiona  (None, None, 256)        330240    \n",
      " l)                                                              \n",
      "                                                                 \n",
      " time_distributed (TimeDistr  (None, None, 46)         11822     \n",
      " ibuted)                                                         \n",
      "                                                                 \n",
      "=================================================================\n",
      "Total params: 5,212,262\n",
      "Trainable params: 342,062\n",
      "Non-trainable params: 4,870,200\n",
      "_________________________________________________________________\n",
      "None\n"
     ]
    },
    {
     "data": {
      "image/png": "[encoded data removed]",
      "text/plain": [
       "<IPython.core.display.Image object>"
      ]
     },
     "execution_count": 114,
     "metadata": {},
     "output_type": "execute_result"
    }
   ],
   "source": [
    "# MODEL VARIATION 1\n",
    "tf.keras.backend.clear_session()\n",
    "model_v1 = tf.keras.models.Sequential([\n",
    "    embedding_layer,\n",
    "    Bidirectional(GRU(128, return_sequences=True, dropout= 0.5)),\n",
    "    TimeDistributed(Dense(46, activation='softmax'))\n",
    "])\n",
    "\n",
    "print(model_v1.summary())\n",
    "plot_model(model_v1, show_shapes=True, show_layer_names=True)"
   ]
  },
  {
   "cell_type": "markdown",
   "id": "CoifVkRmQZ64",
   "metadata": {
    "id": "CoifVkRmQZ64"
   },
   "source": [
    "**Compile model**"
   ]
  },
  {
   "cell_type": "code",
   "execution_count": 115,
   "id": "hVSdx0qhQZo8",
   "metadata": {
    "id": "hVSdx0qhQZo8"
   },
   "outputs": [],
   "source": [
    "model_v1.compile(\n",
    "    loss=\"categorical_crossentropy\", optimizer=tf.keras.optimizers.RMSprop(\n",
    "    learning_rate=0.01), metrics=[\"acc\"]\n",
    ")"
   ]
  },
  {
   "cell_type": "markdown",
   "id": "lsr1XJf2QcLb",
   "metadata": {
    "id": "lsr1XJf2QcLb"
   },
   "source": [
    "**Fit model**"
   ]
  },
  {
   "cell_type": "code",
   "execution_count": 116,
   "id": "QXhPhpXoQeg6",
   "metadata": {
    "colab": {
     "base_uri": "https://localhost:8080/"
    },
    "id": "QXhPhpXoQeg6",
    "outputId": "18c3145a-5a98-4126-c5ec-1955a0c23913"
   },
   "outputs": [
    {
     "name": "stdout",
     "output_type": "stream",
     "text": [
      "Epoch 1/100\n",
      "4/4 [==============================] - 13s 2s/step - loss: 1.4630 - acc: 0.1746 - val_loss: 1.1454 - val_acc: 0.3841 - lr: 0.0100\n",
      "Epoch 2/100\n",
      "4/4 [==============================] - 5s 1s/step - loss: 0.9608 - acc: 0.4320 - val_loss: 0.6976 - val_acc: 0.5267 - lr: 0.0100\n",
      "Epoch 3/100\n",
      "4/4 [==============================] - 5s 1s/step - loss: 0.6583 - acc: 0.5396 - val_loss: 0.5649 - val_acc: 0.5751 - lr: 0.0100\n",
      "Epoch 4/100\n",
      "4/4 [==============================] - 5s 1s/step - loss: 0.5343 - acc: 0.6043 - val_loss: 0.5256 - val_acc: 0.5900 - lr: 0.0100\n",
      "Epoch 5/100\n",
      "4/4 [==============================] - 5s 1s/step - loss: 0.4953 - acc: 0.6273 - val_loss: 0.4634 - val_acc: 0.6524 - lr: 0.0100\n",
      "Epoch 6/100\n",
      "4/4 [==============================] - 5s 1s/step - loss: 0.4419 - acc: 0.6668 - val_loss: 0.4776 - val_acc: 0.6480 - lr: 0.0100\n",
      "Epoch 7/100\n",
      "4/4 [==============================] - 5s 1s/step - loss: 0.4425 - acc: 0.6617 - val_loss: 0.4182 - val_acc: 0.6811 - lr: 0.0100\n",
      "Epoch 8/100\n",
      "4/4 [==============================] - 5s 1s/step - loss: 0.4138 - acc: 0.6861 - val_loss: 0.4523 - val_acc: 0.6585 - lr: 0.0100\n",
      "Epoch 9/100\n",
      "4/4 [==============================] - 5s 1s/step - loss: 0.4276 - acc: 0.6725 - val_loss: 0.3857 - val_acc: 0.7023 - lr: 0.0100\n",
      "Epoch 10/100\n",
      "4/4 [==============================] - 5s 1s/step - loss: 0.3562 - acc: 0.7217 - val_loss: 0.4008 - val_acc: 0.6784 - lr: 0.0100\n",
      "Epoch 11/100\n",
      "4/4 [==============================] - 6s 2s/step - loss: 0.3634 - acc: 0.7149 - val_loss: 0.3551 - val_acc: 0.7261 - lr: 0.0100\n",
      "Epoch 12/100\n",
      "4/4 [==============================] - 5s 1s/step - loss: 0.3344 - acc: 0.7401 - val_loss: 0.3575 - val_acc: 0.7234 - lr: 0.0100\n",
      "Epoch 13/100\n",
      "4/4 [==============================] - 5s 1s/step - loss: 0.3091 - acc: 0.7577 - val_loss: 0.3551 - val_acc: 0.7321 - lr: 0.0100\n",
      "Epoch 14/100\n",
      "4/4 [==============================] - ETA: 0s - loss: 0.3044 - acc: 0.7628\n",
      "Epoch 14: ReduceLROnPlateau reducing learning rate to 0.004999999888241291.\n",
      "4/4 [==============================] - 5s 1s/step - loss: 0.3044 - acc: 0.7628 - val_loss: 0.3591 - val_acc: 0.7205 - lr: 0.0100\n",
      "Epoch 15/100\n",
      "4/4 [==============================] - 5s 1s/step - loss: 0.2776 - acc: 0.7832 - val_loss: 0.2989 - val_acc: 0.7680 - lr: 0.0050\n",
      "Epoch 16/100\n",
      "4/4 [==============================] - 5s 1s/step - loss: 0.2519 - acc: 0.8080 - val_loss: 0.2940 - val_acc: 0.7721 - lr: 0.0050\n",
      "Epoch 17/100\n",
      "4/4 [==============================] - 5s 1s/step - loss: 0.2459 - acc: 0.8105 - val_loss: 0.2943 - val_acc: 0.7706 - lr: 0.0050\n",
      "Epoch 18/100\n",
      "4/4 [==============================] - 5s 1s/step - loss: 0.2406 - acc: 0.8121 - val_loss: 0.2934 - val_acc: 0.7724 - lr: 0.0050\n",
      "Epoch 19/100\n",
      "4/4 [==============================] - 5s 1s/step - loss: 0.2358 - acc: 0.8124 - val_loss: 0.3011 - val_acc: 0.7670 - lr: 0.0050\n",
      "Epoch 20/100\n",
      "4/4 [==============================] - 5s 1s/step - loss: 0.2396 - acc: 0.8057 - val_loss: 0.2848 - val_acc: 0.7774 - lr: 0.0050\n",
      "Epoch 21/100\n",
      "4/4 [==============================] - 5s 1s/step - loss: 0.2165 - acc: 0.8295 - val_loss: 0.2854 - val_acc: 0.7794 - lr: 0.0050\n",
      "Epoch 22/100\n",
      "4/4 [==============================] - 5s 1s/step - loss: 0.2129 - acc: 0.8310 - val_loss: 0.2775 - val_acc: 0.7865 - lr: 0.0050\n",
      "Epoch 23/100\n",
      "4/4 [==============================] - 5s 1s/step - loss: 0.2085 - acc: 0.8344 - val_loss: 0.2985 - val_acc: 0.7736 - lr: 0.0050\n",
      "Epoch 24/100\n",
      "4/4 [==============================] - 5s 1s/step - loss: 0.2069 - acc: 0.8358 - val_loss: 0.2745 - val_acc: 0.7892 - lr: 0.0050\n",
      "Epoch 25/100\n",
      "4/4 [==============================] - 5s 1s/step - loss: 0.1968 - acc: 0.8439 - val_loss: 0.2829 - val_acc: 0.7819 - lr: 0.0050\n",
      "Epoch 26/100\n",
      "4/4 [==============================] - 5s 1s/step - loss: 0.1974 - acc: 0.8363 - val_loss: 0.2752 - val_acc: 0.7908 - lr: 0.0050\n",
      "Epoch 27/100\n",
      "4/4 [==============================] - 5s 1s/step - loss: 0.1815 - acc: 0.8566 - val_loss: 0.2689 - val_acc: 0.7940 - lr: 0.0050\n",
      "Epoch 28/100\n",
      "4/4 [==============================] - 5s 1s/step - loss: 0.1887 - acc: 0.8463 - val_loss: 0.2628 - val_acc: 0.7998 - lr: 0.0050\n",
      "Epoch 29/100\n",
      "4/4 [==============================] - 5s 1s/step - loss: 0.1713 - acc: 0.8632 - val_loss: 0.2748 - val_acc: 0.7900 - lr: 0.0050\n",
      "Epoch 30/100\n",
      "4/4 [==============================] - 5s 1s/step - loss: 0.1786 - acc: 0.8529 - val_loss: 0.2635 - val_acc: 0.7999 - lr: 0.0050\n",
      "Epoch 31/100\n",
      "4/4 [==============================] - ETA: 0s - loss: 0.1674 - acc: 0.8643\n",
      "Epoch 31: ReduceLROnPlateau reducing learning rate to 0.0024999999441206455.\n",
      "4/4 [==============================] - 5s 1s/step - loss: 0.1674 - acc: 0.8643 - val_loss: 0.2678 - val_acc: 0.7982 - lr: 0.0050\n",
      "Epoch 32/100\n",
      "4/4 [==============================] - 5s 1s/step - loss: 0.1555 - acc: 0.8766 - val_loss: 0.2541 - val_acc: 0.8077 - lr: 0.0025\n",
      "Epoch 33/100\n",
      "4/4 [==============================] - 5s 1s/step - loss: 0.1487 - acc: 0.8830 - val_loss: 0.2532 - val_acc: 0.8089 - lr: 0.0025\n",
      "Epoch 34/100\n",
      "4/4 [==============================] - 5s 1s/step - loss: 0.1469 - acc: 0.8836 - val_loss: 0.2530 - val_acc: 0.8102 - lr: 0.0025\n",
      "Epoch 35/100\n",
      "4/4 [==============================] - 5s 1s/step - loss: 0.1430 - acc: 0.8881 - val_loss: 0.2545 - val_acc: 0.8116 - lr: 0.0025\n",
      "Epoch 36/100\n",
      "4/4 [==============================] - 5s 1s/step - loss: 0.1423 - acc: 0.8877 - val_loss: 0.2539 - val_acc: 0.8118 - lr: 0.0025\n",
      "Epoch 37/100\n",
      "4/4 [==============================] - ETA: 0s - loss: 0.1393 - acc: 0.8893\n",
      "Epoch 37: ReduceLROnPlateau reducing learning rate to 0.0012499999720603228.\n",
      "4/4 [==============================] - 6s 2s/step - loss: 0.1393 - acc: 0.8893 - val_loss: 0.2535 - val_acc: 0.8105 - lr: 0.0025\n",
      "Epoch 38/100\n",
      "4/4 [==============================] - 5s 1s/step - loss: 0.1358 - acc: 0.8937 - val_loss: 0.2518 - val_acc: 0.8131 - lr: 0.0012\n",
      "Epoch 39/100\n",
      "4/4 [==============================] - 5s 1s/step - loss: 0.1342 - acc: 0.8953 - val_loss: 0.2509 - val_acc: 0.8141 - lr: 0.0012\n",
      "Epoch 40/100\n",
      "4/4 [==============================] - 5s 1s/step - loss: 0.1320 - acc: 0.8972 - val_loss: 0.2501 - val_acc: 0.8142 - lr: 0.0012\n",
      "Epoch 41/100\n",
      "4/4 [==============================] - 5s 1s/step - loss: 0.1316 - acc: 0.8968 - val_loss: 0.2506 - val_acc: 0.8137 - lr: 0.0012\n",
      "Epoch 42/100\n",
      "4/4 [==============================] - 5s 1s/step - loss: 0.1296 - acc: 0.8969 - val_loss: 0.2506 - val_acc: 0.8148 - lr: 0.0012\n",
      "Epoch 43/100\n",
      "4/4 [==============================] - ETA: 0s - loss: 0.1290 - acc: 0.8985\n",
      "Epoch 43: ReduceLROnPlateau reducing learning rate to 0.0006249999860301614.\n",
      "4/4 [==============================] - 5s 1s/step - loss: 0.1290 - acc: 0.8985 - val_loss: 0.2505 - val_acc: 0.8150 - lr: 0.0012\n",
      "Epoch 44/100\n",
      "4/4 [==============================] - 5s 1s/step - loss: 0.1273 - acc: 0.8996 - val_loss: 0.2503 - val_acc: 0.8152 - lr: 6.2500e-04\n",
      "Epoch 45/100\n",
      "4/4 [==============================] - 5s 1s/step - loss: 0.1261 - acc: 0.9010 - val_loss: 0.2506 - val_acc: 0.8150 - lr: 6.2500e-04\n",
      "Epoch 46/100\n",
      "4/4 [==============================] - ETA: 0s - loss: 0.1239 - acc: 0.9034\n",
      "Epoch 46: ReduceLROnPlateau reducing learning rate to 0.0003124999930150807.\n",
      "4/4 [==============================] - 5s 1s/step - loss: 0.1239 - acc: 0.9034 - val_loss: 0.2504 - val_acc: 0.8150 - lr: 6.2500e-04\n",
      "Epoch 47/100\n",
      "4/4 [==============================] - 5s 1s/step - loss: 0.1237 - acc: 0.9029 - val_loss: 0.2503 - val_acc: 0.8152 - lr: 3.1250e-04\n",
      "Epoch 48/100\n",
      "4/4 [==============================] - 5s 1s/step - loss: 0.1239 - acc: 0.9018 - val_loss: 0.2503 - val_acc: 0.8153 - lr: 3.1250e-04\n",
      "Epoch 49/100\n",
      "4/4 [==============================] - ETA: 0s - loss: 0.1236 - acc: 0.9024\n",
      "Epoch 49: ReduceLROnPlateau reducing learning rate to 0.00015624999650754035.\n",
      "4/4 [==============================] - 5s 1s/step - loss: 0.1236 - acc: 0.9024 - val_loss: 0.2504 - val_acc: 0.8159 - lr: 3.1250e-04\n",
      "Epoch 50/100\n",
      "4/4 [==============================] - 5s 1s/step - loss: 0.1240 - acc: 0.9023 - val_loss: 0.2505 - val_acc: 0.8156 - lr: 1.5625e-04\n",
      "Epoch 50: early stopping\n"
     ]
    }
   ],
   "source": [
    "history_v1 = model_v1.fit(X_train, Y_train, validation_data=(X_val, Y_val), batch_size=512, epochs=100, callbacks=callbacks)"
   ]
  },
  {
   "cell_type": "markdown",
   "id": "r-qlqTzIQxDp",
   "metadata": {
    "id": "r-qlqTzIQxDp"
   },
   "source": [
    "**Plot history**"
   ]
  },
  {
   "cell_type": "code",
   "execution_count": 117,
   "id": "BDgB2fB8Q7lV",
   "metadata": {
    "colab": {
     "base_uri": "https://localhost:8080/",
     "height": 458
    },
    "id": "BDgB2fB8Q7lV",
    "outputId": "db14a61f-b238-4496-f317-ecab1f6c0643"
   },
   "outputs": [
    {
     "data": {
      "image/png": "[encoded data removed]",
      "text/plain": [
       "<Figure size 1080x504 with 2 Axes>"
      ]
     },
     "metadata": {
      "needs_background": "light"
     },
     "output_type": "display_data"
    }
   ],
   "source": [
    "plot_history(history_v1)"
   ]
  },
  {
   "cell_type": "markdown",
   "id": "2y9QTCeGQ5Rq",
   "metadata": {
    "id": "2y9QTCeGQ5Rq"
   },
   "source": [
    "## 2. Adding an additional LSTM layer\n"
   ]
  },
  {
   "cell_type": "markdown",
   "id": "fAmnfuNVypdG",
   "metadata": {
    "id": "fAmnfuNVypdG"
   },
   "source": [
    "**Model architecture**"
   ]
  },
  {
   "cell_type": "code",
   "execution_count": 67,
   "id": "bL4Q7MxRLKgw",
   "metadata": {
    "colab": {
     "base_uri": "https://localhost:8080/"
    },
    "id": "bL4Q7MxRLKgw",
    "outputId": "ac4a958d-2f90-4a93-905a-e05dcf750c58"
   },
   "outputs": [
    {
     "name": "stdout",
     "output_type": "stream",
     "text": [
      "Model: \"sequential\"\n",
      "_________________________________________________________________\n",
      " Layer (type)                Output Shape              Param #   \n",
      "=================================================================\n",
      " embedding (Embedding)       (None, None, 300)         4870200   \n",
      "                                                                 \n",
      " bidirectional (Bidirectiona  (None, None, 256)        439296    \n",
      " l)                                                              \n",
      "                                                                 \n",
      " bidirectional_1 (Bidirectio  (None, None, 256)        394240    \n",
      " nal)                                                            \n",
      "                                                                 \n",
      " time_distributed (TimeDistr  (None, None, 46)         11822     \n",
      " ibuted)                                                         \n",
      "                                                                 \n",
      "=================================================================\n",
      "Total params: 5,715,558\n",
      "Trainable params: 845,358\n",
      "Non-trainable params: 4,870,200\n",
      "_________________________________________________________________\n",
      "None\n"
     ]
    }
   ],
   "source": [
    "# MODEL VARIATION 2\n",
    "tf.keras.backend.clear_session()\n",
    "model_v2 = tf.keras.models.Sequential([\n",
    "    embedding_layer,\n",
    "    Bidirectional(LSTM(128, return_sequences=True, dropout= 0.5)),\n",
    "    Bidirectional(LSTM(128, return_sequences=True, dropout= 0.25)),\n",
    "    TimeDistributed(Dense(46, activation='softmax'))\n",
    "])\n",
    "\n",
    "print(model_v2.summary())\n",
    "#plot_model(model_v2, show_shapes=True, show_layer_names=True)"
   ]
  },
  {
   "cell_type": "markdown",
   "id": "hC4fTQte9BIY",
   "metadata": {
    "id": "hC4fTQte9BIY"
   },
   "source": [
    "**Compile model**"
   ]
  },
  {
   "cell_type": "code",
   "execution_count": 68,
   "id": "H8WNXivOLV_o",
   "metadata": {
    "id": "H8WNXivOLV_o"
   },
   "outputs": [],
   "source": [
    "model_v2.compile(\n",
    "    loss=\"categorical_crossentropy\", optimizer=tf.keras.optimizers.Adam(\n",
    "    learning_rate=0.01), metrics=[\"acc\"]\n",
    ")"
   ]
  },
  {
   "cell_type": "markdown",
   "id": "f4s8DqO-9Cpx",
   "metadata": {
    "id": "f4s8DqO-9Cpx"
   },
   "source": [
    "**Fit model**"
   ]
  },
  {
   "cell_type": "code",
   "execution_count": 69,
   "id": "yL7OuoOQLX8X",
   "metadata": {
    "colab": {
     "base_uri": "https://localhost:8080/"
    },
    "id": "yL7OuoOQLX8X",
    "outputId": "737f6138-1cf4-42fd-cced-80818c8cd19c"
   },
   "outputs": [
    {
     "name": "stdout",
     "output_type": "stream",
     "text": [
      "Epoch 1/100\n",
      "4/4 [==============================] - 28s 4s/step - loss: 1.4363 - acc: 0.0948 - val_loss: 1.2912 - val_acc: 0.1448 - lr: 0.0100\n",
      "Epoch 2/100\n",
      "4/4 [==============================] - 12s 3s/step - loss: 1.2494 - acc: 0.1577 - val_loss: 1.1850 - val_acc: 0.2090 - lr: 0.0100\n",
      "Epoch 3/100\n",
      "4/4 [==============================] - 12s 3s/step - loss: 1.1393 - acc: 0.2171 - val_loss: 1.0938 - val_acc: 0.2975 - lr: 0.0100\n",
      "Epoch 4/100\n",
      "4/4 [==============================] - 12s 3s/step - loss: 1.0541 - acc: 0.3001 - val_loss: 0.9997 - val_acc: 0.3312 - lr: 0.0100\n",
      "Epoch 5/100\n",
      "4/4 [==============================] - 12s 3s/step - loss: 0.9549 - acc: 0.3743 - val_loss: 0.8970 - val_acc: 0.4095 - lr: 0.0100\n",
      "Epoch 6/100\n",
      "4/4 [==============================] - 12s 3s/step - loss: 0.8520 - acc: 0.4229 - val_loss: 0.7891 - val_acc: 0.4409 - lr: 0.0100\n",
      "Epoch 7/100\n",
      "4/4 [==============================] - 12s 3s/step - loss: 0.7533 - acc: 0.4560 - val_loss: 0.7088 - val_acc: 0.4794 - lr: 0.0100\n",
      "Epoch 8/100\n",
      "4/4 [==============================] - 12s 3s/step - loss: 0.6788 - acc: 0.5032 - val_loss: 0.6413 - val_acc: 0.5283 - lr: 0.0100\n",
      "Epoch 9/100\n",
      "4/4 [==============================] - 12s 3s/step - loss: 0.6164 - acc: 0.5504 - val_loss: 0.5835 - val_acc: 0.5664 - lr: 0.0100\n",
      "Epoch 10/100\n",
      "4/4 [==============================] - 13s 3s/step - loss: 0.5645 - acc: 0.5803 - val_loss: 0.5368 - val_acc: 0.6038 - lr: 0.0100\n",
      "Epoch 11/100\n",
      "4/4 [==============================] - 12s 3s/step - loss: 0.5242 - acc: 0.6074 - val_loss: 0.4996 - val_acc: 0.6246 - lr: 0.0100\n",
      "Epoch 12/100\n",
      "4/4 [==============================] - 12s 3s/step - loss: 0.4873 - acc: 0.6324 - val_loss: 0.4713 - val_acc: 0.6405 - lr: 0.0100\n",
      "Epoch 13/100\n",
      "4/4 [==============================] - 12s 3s/step - loss: 0.4540 - acc: 0.6538 - val_loss: 0.4375 - val_acc: 0.6655 - lr: 0.0100\n",
      "Epoch 14/100\n",
      "4/4 [==============================] - 12s 3s/step - loss: 0.4246 - acc: 0.6789 - val_loss: 0.4119 - val_acc: 0.6839 - lr: 0.0100\n",
      "Epoch 15/100\n",
      "4/4 [==============================] - 12s 3s/step - loss: 0.4007 - acc: 0.6919 - val_loss: 0.3873 - val_acc: 0.7002 - lr: 0.0100\n",
      "Epoch 16/100\n",
      "4/4 [==============================] - 12s 3s/step - loss: 0.3771 - acc: 0.7135 - val_loss: 0.3705 - val_acc: 0.7123 - lr: 0.0100\n",
      "Epoch 17/100\n",
      "4/4 [==============================] - 12s 3s/step - loss: 0.3556 - acc: 0.7266 - val_loss: 0.3510 - val_acc: 0.7255 - lr: 0.0100\n",
      "Epoch 18/100\n",
      "4/4 [==============================] - 12s 3s/step - loss: 0.3344 - acc: 0.7438 - val_loss: 0.3351 - val_acc: 0.7375 - lr: 0.0100\n",
      "Epoch 19/100\n",
      "4/4 [==============================] - 12s 3s/step - loss: 0.3187 - acc: 0.7576 - val_loss: 0.3235 - val_acc: 0.7471 - lr: 0.0100\n",
      "Epoch 20/100\n",
      "4/4 [==============================] - 12s 3s/step - loss: 0.3059 - acc: 0.7628 - val_loss: 0.3147 - val_acc: 0.7539 - lr: 0.0100\n",
      "Epoch 21/100\n",
      "4/4 [==============================] - 12s 3s/step - loss: 0.2914 - acc: 0.7753 - val_loss: 0.3036 - val_acc: 0.7630 - lr: 0.0100\n",
      "Epoch 22/100\n",
      "4/4 [==============================] - 13s 3s/step - loss: 0.2756 - acc: 0.7864 - val_loss: 0.2929 - val_acc: 0.7712 - lr: 0.0100\n",
      "Epoch 23/100\n",
      "4/4 [==============================] - 12s 3s/step - loss: 0.2616 - acc: 0.7972 - val_loss: 0.2868 - val_acc: 0.7768 - lr: 0.0100\n",
      "Epoch 24/100\n",
      "4/4 [==============================] - 12s 3s/step - loss: 0.2527 - acc: 0.8032 - val_loss: 0.2804 - val_acc: 0.7833 - lr: 0.0100\n",
      "Epoch 25/100\n",
      "4/4 [==============================] - 12s 3s/step - loss: 0.2410 - acc: 0.8128 - val_loss: 0.2808 - val_acc: 0.7833 - lr: 0.0100\n",
      "Epoch 26/100\n",
      "4/4 [==============================] - 12s 3s/step - loss: 0.2351 - acc: 0.8144 - val_loss: 0.2635 - val_acc: 0.7962 - lr: 0.0100\n",
      "Epoch 27/100\n",
      "4/4 [==============================] - 12s 3s/step - loss: 0.2219 - acc: 0.8290 - val_loss: 0.2617 - val_acc: 0.7987 - lr: 0.0100\n",
      "Epoch 28/100\n",
      "4/4 [==============================] - 12s 3s/step - loss: 0.2149 - acc: 0.8339 - val_loss: 0.2529 - val_acc: 0.8063 - lr: 0.0100\n",
      "Epoch 29/100\n",
      "4/4 [==============================] - 12s 3s/step - loss: 0.2047 - acc: 0.8397 - val_loss: 0.2454 - val_acc: 0.8124 - lr: 0.0100\n",
      "Epoch 30/100\n",
      "4/4 [==============================] - 12s 3s/step - loss: 0.1959 - acc: 0.8462 - val_loss: 0.2468 - val_acc: 0.8130 - lr: 0.0100\n",
      "Epoch 31/100\n",
      "4/4 [==============================] - 12s 3s/step - loss: 0.1889 - acc: 0.8530 - val_loss: 0.2461 - val_acc: 0.8139 - lr: 0.0100\n",
      "Epoch 32/100\n",
      "4/4 [==============================] - 13s 3s/step - loss: 0.1850 - acc: 0.8547 - val_loss: 0.2414 - val_acc: 0.8191 - lr: 0.0100\n",
      "Epoch 33/100\n",
      "4/4 [==============================] - 12s 3s/step - loss: 0.1793 - acc: 0.8599 - val_loss: 0.2387 - val_acc: 0.8199 - lr: 0.0100\n",
      "Epoch 34/100\n",
      "4/4 [==============================] - 12s 3s/step - loss: 0.1709 - acc: 0.8660 - val_loss: 0.2354 - val_acc: 0.8221 - lr: 0.0100\n",
      "Epoch 35/100\n",
      "4/4 [==============================] - 13s 3s/step - loss: 0.1634 - acc: 0.8703 - val_loss: 0.2314 - val_acc: 0.8268 - lr: 0.0100\n",
      "Epoch 36/100\n",
      "4/4 [==============================] - 12s 3s/step - loss: 0.1585 - acc: 0.8737 - val_loss: 0.2344 - val_acc: 0.8275 - lr: 0.0100\n",
      "Epoch 37/100\n",
      "4/4 [==============================] - 12s 3s/step - loss: 0.1546 - acc: 0.8780 - val_loss: 0.2300 - val_acc: 0.8305 - lr: 0.0100\n",
      "Epoch 38/100\n",
      "4/4 [==============================] - 12s 3s/step - loss: 0.1508 - acc: 0.8793 - val_loss: 0.2278 - val_acc: 0.8329 - lr: 0.0100\n",
      "Epoch 39/100\n",
      "4/4 [==============================] - 12s 3s/step - loss: 0.1464 - acc: 0.8840 - val_loss: 0.2280 - val_acc: 0.8325 - lr: 0.0100\n",
      "Epoch 40/100\n",
      "4/4 [==============================] - 12s 3s/step - loss: 0.1418 - acc: 0.8865 - val_loss: 0.2266 - val_acc: 0.8348 - lr: 0.0100\n",
      "Epoch 41/100\n",
      "4/4 [==============================] - 12s 3s/step - loss: 0.1389 - acc: 0.8889 - val_loss: 0.2266 - val_acc: 0.8326 - lr: 0.0100\n",
      "Epoch 42/100\n",
      "4/4 [==============================] - 12s 3s/step - loss: 0.1344 - acc: 0.8928 - val_loss: 0.2269 - val_acc: 0.8359 - lr: 0.0100\n",
      "Epoch 43/100\n",
      "4/4 [==============================] - ETA: 0s - loss: 0.1305 - acc: 0.8970\n",
      "Epoch 43: ReduceLROnPlateau reducing learning rate to 0.004999999888241291.\n",
      "4/4 [==============================] - 12s 3s/step - loss: 0.1305 - acc: 0.8970 - val_loss: 0.2280 - val_acc: 0.8372 - lr: 0.0100\n",
      "Epoch 44/100\n",
      "4/4 [==============================] - 12s 3s/step - loss: 0.1280 - acc: 0.8973 - val_loss: 0.2230 - val_acc: 0.8406 - lr: 0.0050\n",
      "Epoch 45/100\n",
      "4/4 [==============================] - 12s 3s/step - loss: 0.1222 - acc: 0.9041 - val_loss: 0.2228 - val_acc: 0.8405 - lr: 0.0050\n",
      "Epoch 46/100\n",
      "4/4 [==============================] - 12s 3s/step - loss: 0.1198 - acc: 0.9045 - val_loss: 0.2213 - val_acc: 0.8416 - lr: 0.0050\n",
      "Epoch 47/100\n",
      "4/4 [==============================] - 13s 3s/step - loss: 0.1190 - acc: 0.9039 - val_loss: 0.2216 - val_acc: 0.8410 - lr: 0.0050\n",
      "Epoch 48/100\n",
      "4/4 [==============================] - 12s 3s/step - loss: 0.1168 - acc: 0.9058 - val_loss: 0.2219 - val_acc: 0.8419 - lr: 0.0050\n",
      "Epoch 49/100\n",
      "4/4 [==============================] - 12s 3s/step - loss: 0.1157 - acc: 0.9060 - val_loss: 0.2208 - val_acc: 0.8432 - lr: 0.0050\n",
      "Epoch 50/100\n",
      "4/4 [==============================] - 12s 3s/step - loss: 0.1153 - acc: 0.9063 - val_loss: 0.2225 - val_acc: 0.8430 - lr: 0.0050\n",
      "Epoch 51/100\n",
      "4/4 [==============================] - 12s 3s/step - loss: 0.1117 - acc: 0.9098 - val_loss: 0.2209 - val_acc: 0.8454 - lr: 0.0050\n",
      "Epoch 52/100\n",
      "4/4 [==============================] - 12s 3s/step - loss: 0.1083 - acc: 0.9132 - val_loss: 0.2207 - val_acc: 0.8463 - lr: 0.0050\n",
      "Epoch 53/100\n",
      "4/4 [==============================] - 12s 3s/step - loss: 0.1088 - acc: 0.9117 - val_loss: 0.2227 - val_acc: 0.8454 - lr: 0.0050\n",
      "Epoch 54/100\n",
      "4/4 [==============================] - 12s 3s/step - loss: 0.1055 - acc: 0.9142 - val_loss: 0.2207 - val_acc: 0.8466 - lr: 0.0050\n",
      "Epoch 55/100\n",
      "4/4 [==============================] - ETA: 0s - loss: 0.1040 - acc: 0.9150\n",
      "Epoch 55: ReduceLROnPlateau reducing learning rate to 0.0024999999441206455.\n",
      "4/4 [==============================] - 12s 3s/step - loss: 0.1040 - acc: 0.9150 - val_loss: 0.2221 - val_acc: 0.8462 - lr: 0.0050\n",
      "Epoch 56/100\n",
      "4/4 [==============================] - 12s 3s/step - loss: 0.1021 - acc: 0.9169 - val_loss: 0.2213 - val_acc: 0.8474 - lr: 0.0025\n",
      "Epoch 57/100\n",
      "4/4 [==============================] - 12s 3s/step - loss: 0.1022 - acc: 0.9175 - val_loss: 0.2205 - val_acc: 0.8475 - lr: 0.0025\n",
      "Epoch 58/100\n",
      "4/4 [==============================] - 12s 3s/step - loss: 0.1007 - acc: 0.9191 - val_loss: 0.2211 - val_acc: 0.8476 - lr: 0.0025\n",
      "Epoch 59/100\n",
      "4/4 [==============================] - 13s 3s/step - loss: 0.0999 - acc: 0.9180 - val_loss: 0.2213 - val_acc: 0.8485 - lr: 0.0025\n",
      "Epoch 60/100\n",
      "4/4 [==============================] - ETA: 0s - loss: 0.0977 - acc: 0.9204\n",
      "Epoch 60: ReduceLROnPlateau reducing learning rate to 0.0012499999720603228.\n",
      "4/4 [==============================] - 12s 3s/step - loss: 0.0977 - acc: 0.9204 - val_loss: 0.2221 - val_acc: 0.8475 - lr: 0.0025\n",
      "Epoch 61/100\n",
      "4/4 [==============================] - 12s 3s/step - loss: 0.0987 - acc: 0.9205 - val_loss: 0.2217 - val_acc: 0.8483 - lr: 0.0012\n",
      "Epoch 62/100\n",
      "4/4 [==============================] - 12s 3s/step - loss: 0.0981 - acc: 0.9197 - val_loss: 0.2214 - val_acc: 0.8488 - lr: 0.0012\n",
      "Epoch 63/100\n",
      "4/4 [==============================] - ETA: 0s - loss: 0.0959 - acc: 0.9210\n",
      "Epoch 63: ReduceLROnPlateau reducing learning rate to 0.0006249999860301614.\n",
      "4/4 [==============================] - 12s 3s/step - loss: 0.0959 - acc: 0.9210 - val_loss: 0.2217 - val_acc: 0.8481 - lr: 0.0012\n",
      "Epoch 64/100\n",
      "4/4 [==============================] - 12s 3s/step - loss: 0.0962 - acc: 0.9212 - val_loss: 0.2212 - val_acc: 0.8482 - lr: 6.2500e-04\n",
      "Epoch 65/100\n",
      "4/4 [==============================] - 12s 3s/step - loss: 0.0961 - acc: 0.9226 - val_loss: 0.2209 - val_acc: 0.8491 - lr: 6.2500e-04\n",
      "Epoch 66/100\n",
      "4/4 [==============================] - ETA: 0s - loss: 0.0956 - acc: 0.9222\n",
      "Epoch 66: ReduceLROnPlateau reducing learning rate to 0.0003124999930150807.\n",
      "4/4 [==============================] - 12s 3s/step - loss: 0.0956 - acc: 0.9222 - val_loss: 0.2212 - val_acc: 0.8488 - lr: 6.2500e-04\n",
      "Epoch 67/100\n",
      "4/4 [==============================] - 12s 3s/step - loss: 0.0950 - acc: 0.9220 - val_loss: 0.2215 - val_acc: 0.8485 - lr: 3.1250e-04\n",
      "Epoch 67: early stopping\n"
     ]
    }
   ],
   "source": [
    "history_v2 = model_v2.fit(X_train, Y_train, validation_data=(X_val, Y_val), batch_size=512, epochs=100, callbacks=callbacks)"
   ]
  },
  {
   "cell_type": "markdown",
   "id": "GRQFbFIa9F9w",
   "metadata": {
    "id": "GRQFbFIa9F9w"
   },
   "source": [
    "Plot **history**"
   ]
  },
  {
   "cell_type": "code",
   "execution_count": 76,
   "id": "Lha3nA2h8kzX",
   "metadata": {
    "colab": {
     "base_uri": "https://localhost:8080/",
     "height": 458
    },
    "id": "Lha3nA2h8kzX",
    "outputId": "15c70137-5fcb-44ff-c914-d44b0b9da045"
   },
   "outputs": [
    {
     "data": {
      "image/png": "[encoded data removed]",
      "text/plain": [
       "<Figure size 1080x504 with 2 Axes>"
      ]
     },
     "metadata": {
      "needs_background": "light"
     },
     "output_type": "display_data"
    }
   ],
   "source": [
    "plot_history(history_v2)"
   ]
  },
  {
   "cell_type": "markdown",
   "id": "GJ6nG12WTasw",
   "metadata": {
    "id": "GJ6nG12WTasw"
   },
   "source": [
    "## 3. Additional dense layer"
   ]
  },
  {
   "cell_type": "markdown",
   "id": "cYhmONSNTgRg",
   "metadata": {
    "id": "cYhmONSNTgRg"
   },
   "source": [
    "**Model architecture**"
   ]
  },
  {
   "cell_type": "code",
   "execution_count": 123,
   "id": "2uE8lRko9Ol1",
   "metadata": {
    "colab": {
     "base_uri": "https://localhost:8080/"
    },
    "id": "2uE8lRko9Ol1",
    "outputId": "8a6485c5-2da1-4e96-be65-ba83d5af2d7f"
   },
   "outputs": [
    {
     "name": "stdout",
     "output_type": "stream",
     "text": [
      "Model: \"sequential\"\n",
      "_________________________________________________________________\n",
      " Layer (type)                Output Shape              Param #   \n",
      "=================================================================\n",
      " embedding (Embedding)       (None, None, 300)         4870200   \n",
      "                                                                 \n",
      " bidirectional (Bidirectiona  (None, None, 256)        439296    \n",
      " l)                                                              \n",
      "                                                                 \n",
      " time_distributed (TimeDistr  (None, None, 128)        32896     \n",
      " ibuted)                                                         \n",
      "                                                                 \n",
      " time_distributed_1 (TimeDis  (None, None, 46)         5934      \n",
      " tributed)                                                       \n",
      "                                                                 \n",
      "=================================================================\n",
      "Total params: 5,348,326\n",
      "Trainable params: 478,126\n",
      "Non-trainable params: 4,870,200\n",
      "_________________________________________________________________\n",
      "None\n"
     ]
    }
   ],
   "source": [
    "# MODEL VARIATION 3\n",
    "tf.keras.backend.clear_session()\n",
    "model_v3 = tf.keras.models.Sequential([\n",
    "    embedding_layer,\n",
    "    Bidirectional(LSTM(128, return_sequences=True, dropout= 0.5)),\n",
    "    TimeDistributed(Dense(128, activation='tanh')),\n",
    "    TimeDistributed(Dense(46, activation='softmax'))\n",
    "])\n",
    "\n",
    "print(model_v3.summary())\n",
    "#plot_model(model_v2, show_shapes=True, show_layer_names=True)"
   ]
  },
  {
   "cell_type": "markdown",
   "id": "SqH2ygwETjSv",
   "metadata": {
    "id": "SqH2ygwETjSv"
   },
   "source": [
    "**Compile model**"
   ]
  },
  {
   "cell_type": "code",
   "execution_count": 124,
   "id": "AeWGPMnq9Utg",
   "metadata": {
    "id": "AeWGPMnq9Utg"
   },
   "outputs": [],
   "source": [
    "model_v3.compile(\n",
    "    loss=\"categorical_crossentropy\", optimizer=tf.keras.optimizers.Adam(\n",
    "    learning_rate=0.01), metrics=[\"acc\"]\n",
    ")"
   ]
  },
  {
   "cell_type": "markdown",
   "id": "16Lchi_pTly5",
   "metadata": {
    "id": "16Lchi_pTly5"
   },
   "source": [
    "**Fit model**"
   ]
  },
  {
   "cell_type": "code",
   "execution_count": 125,
   "id": "1OJLwvvF9fIs",
   "metadata": {
    "colab": {
     "base_uri": "https://localhost:8080/"
    },
    "id": "1OJLwvvF9fIs",
    "outputId": "5e16a8f6-ae6e-4e64-c2a0-0bbbee224cbe"
   },
   "outputs": [
    {
     "name": "stdout",
     "output_type": "stream",
     "text": [
      "Epoch 1/100\n",
      "4/4 [==============================] - 77s 2s/step - loss: 1.3468 - acc: 0.1122 - val_loss: 1.0828 - val_acc: 0.2441 - lr: 0.0100\n",
      "Epoch 2/100\n",
      "4/4 [==============================] - 6s 2s/step - loss: 0.9791 - acc: 0.3222 - val_loss: 0.8483 - val_acc: 0.4185 - lr: 0.0100\n",
      "Epoch 3/100\n",
      "4/4 [==============================] - 6s 2s/step - loss: 0.7757 - acc: 0.4606 - val_loss: 0.7028 - val_acc: 0.4954 - lr: 0.0100\n",
      "Epoch 4/100\n",
      "4/4 [==============================] - 6s 2s/step - loss: 0.6517 - acc: 0.5340 - val_loss: 0.6074 - val_acc: 0.5642 - lr: 0.0100\n",
      "Epoch 5/100\n",
      "4/4 [==============================] - 6s 2s/step - loss: 0.5694 - acc: 0.5894 - val_loss: 0.5359 - val_acc: 0.6035 - lr: 0.0100\n",
      "Epoch 6/100\n",
      "4/4 [==============================] - 6s 2s/step - loss: 0.5082 - acc: 0.6236 - val_loss: 0.4802 - val_acc: 0.6425 - lr: 0.0100\n",
      "Epoch 7/100\n",
      "4/4 [==============================] - 6s 2s/step - loss: 0.4571 - acc: 0.6561 - val_loss: 0.4375 - val_acc: 0.6694 - lr: 0.0100\n",
      "Epoch 8/100\n",
      "4/4 [==============================] - 6s 2s/step - loss: 0.4136 - acc: 0.6892 - val_loss: 0.4007 - val_acc: 0.6960 - lr: 0.0100\n",
      "Epoch 9/100\n",
      "4/4 [==============================] - 6s 2s/step - loss: 0.3793 - acc: 0.7142 - val_loss: 0.3717 - val_acc: 0.7166 - lr: 0.0100\n",
      "Epoch 10/100\n",
      "4/4 [==============================] - 6s 2s/step - loss: 0.3509 - acc: 0.7345 - val_loss: 0.3466 - val_acc: 0.7362 - lr: 0.0100\n",
      "Epoch 11/100\n",
      "4/4 [==============================] - 6s 2s/step - loss: 0.3256 - acc: 0.7513 - val_loss: 0.3271 - val_acc: 0.7499 - lr: 0.0100\n",
      "Epoch 12/100\n",
      "4/4 [==============================] - 6s 2s/step - loss: 0.3027 - acc: 0.7691 - val_loss: 0.3129 - val_acc: 0.7612 - lr: 0.0100\n",
      "Epoch 13/100\n",
      "4/4 [==============================] - 6s 2s/step - loss: 0.2822 - acc: 0.7828 - val_loss: 0.2981 - val_acc: 0.7729 - lr: 0.0100\n",
      "Epoch 14/100\n",
      "4/4 [==============================] - 6s 2s/step - loss: 0.2624 - acc: 0.7999 - val_loss: 0.2862 - val_acc: 0.7830 - lr: 0.0100\n",
      "Epoch 15/100\n",
      "4/4 [==============================] - 6s 2s/step - loss: 0.2463 - acc: 0.8122 - val_loss: 0.2743 - val_acc: 0.7914 - lr: 0.0100\n",
      "Epoch 16/100\n",
      "4/4 [==============================] - 6s 2s/step - loss: 0.2316 - acc: 0.8236 - val_loss: 0.2678 - val_acc: 0.7988 - lr: 0.0100\n",
      "Epoch 17/100\n",
      "4/4 [==============================] - 6s 2s/step - loss: 0.2170 - acc: 0.8326 - val_loss: 0.2593 - val_acc: 0.8040 - lr: 0.0100\n",
      "Epoch 18/100\n",
      "4/4 [==============================] - 7s 2s/step - loss: 0.2036 - acc: 0.8439 - val_loss: 0.2530 - val_acc: 0.8078 - lr: 0.0100\n",
      "Epoch 19/100\n",
      "4/4 [==============================] - 6s 2s/step - loss: 0.1927 - acc: 0.8506 - val_loss: 0.2504 - val_acc: 0.8112 - lr: 0.0100\n",
      "Epoch 20/100\n",
      "4/4 [==============================] - 6s 2s/step - loss: 0.1818 - acc: 0.8588 - val_loss: 0.2448 - val_acc: 0.8159 - lr: 0.0100\n",
      "Epoch 21/100\n",
      "4/4 [==============================] - 6s 2s/step - loss: 0.1707 - acc: 0.8692 - val_loss: 0.2420 - val_acc: 0.8195 - lr: 0.0100\n",
      "Epoch 22/100\n",
      "4/4 [==============================] - 6s 2s/step - loss: 0.1649 - acc: 0.8710 - val_loss: 0.2412 - val_acc: 0.8215 - lr: 0.0100\n",
      "Epoch 23/100\n",
      "4/4 [==============================] - 6s 2s/step - loss: 0.1554 - acc: 0.8782 - val_loss: 0.2376 - val_acc: 0.8243 - lr: 0.0100\n",
      "Epoch 24/100\n",
      "4/4 [==============================] - 6s 2s/step - loss: 0.1472 - acc: 0.8860 - val_loss: 0.2411 - val_acc: 0.8243 - lr: 0.0100\n",
      "Epoch 25/100\n",
      "4/4 [==============================] - 6s 2s/step - loss: 0.1413 - acc: 0.8895 - val_loss: 0.2375 - val_acc: 0.8282 - lr: 0.0100\n",
      "Epoch 26/100\n",
      "4/4 [==============================] - 6s 2s/step - loss: 0.1368 - acc: 0.8926 - val_loss: 0.2412 - val_acc: 0.8283 - lr: 0.0100\n",
      "Epoch 27/100\n",
      "4/4 [==============================] - 6s 2s/step - loss: 0.1324 - acc: 0.8949 - val_loss: 0.2368 - val_acc: 0.8334 - lr: 0.0100\n",
      "Epoch 28/100\n",
      "4/4 [==============================] - 6s 2s/step - loss: 0.1245 - acc: 0.9005 - val_loss: 0.2348 - val_acc: 0.8340 - lr: 0.0100\n",
      "Epoch 29/100\n",
      "4/4 [==============================] - 6s 2s/step - loss: 0.1207 - acc: 0.9044 - val_loss: 0.2373 - val_acc: 0.8340 - lr: 0.0100\n",
      "Epoch 30/100\n",
      "4/4 [==============================] - 6s 2s/step - loss: 0.1142 - acc: 0.9083 - val_loss: 0.2376 - val_acc: 0.8360 - lr: 0.0100\n",
      "Epoch 31/100\n",
      "4/4 [==============================] - ETA: 0s - loss: 0.1095 - acc: 0.9124\n",
      "Epoch 31: ReduceLROnPlateau reducing learning rate to 0.004999999888241291.\n",
      "4/4 [==============================] - 6s 2s/step - loss: 0.1095 - acc: 0.9124 - val_loss: 0.2377 - val_acc: 0.8376 - lr: 0.0100\n",
      "Epoch 32/100\n",
      "4/4 [==============================] - 6s 2s/step - loss: 0.1040 - acc: 0.9164 - val_loss: 0.2395 - val_acc: 0.8364 - lr: 0.0050\n",
      "Epoch 33/100\n",
      "4/4 [==============================] - 6s 2s/step - loss: 0.1010 - acc: 0.9192 - val_loss: 0.2406 - val_acc: 0.8364 - lr: 0.0050\n",
      "Epoch 34/100\n",
      "4/4 [==============================] - ETA: 0s - loss: 0.0991 - acc: 0.9199\n",
      "Epoch 34: ReduceLROnPlateau reducing learning rate to 0.0024999999441206455.\n",
      "4/4 [==============================] - 6s 2s/step - loss: 0.0991 - acc: 0.9199 - val_loss: 0.2395 - val_acc: 0.8381 - lr: 0.0050\n",
      "Epoch 35/100\n",
      "4/4 [==============================] - 6s 2s/step - loss: 0.0945 - acc: 0.9241 - val_loss: 0.2375 - val_acc: 0.8390 - lr: 0.0025\n",
      "Epoch 36/100\n",
      "4/4 [==============================] - 7s 2s/step - loss: 0.0936 - acc: 0.9252 - val_loss: 0.2393 - val_acc: 0.8386 - lr: 0.0025\n",
      "Epoch 37/100\n",
      "4/4 [==============================] - ETA: 0s - loss: 0.0937 - acc: 0.9251\n",
      "Epoch 37: ReduceLROnPlateau reducing learning rate to 0.0012499999720603228.\n",
      "4/4 [==============================] - 6s 2s/step - loss: 0.0937 - acc: 0.9251 - val_loss: 0.2383 - val_acc: 0.8406 - lr: 0.0025\n",
      "Epoch 38/100\n",
      "4/4 [==============================] - 6s 2s/step - loss: 0.0909 - acc: 0.9268 - val_loss: 0.2406 - val_acc: 0.8392 - lr: 0.0012\n",
      "Epoch 38: early stopping\n"
     ]
    }
   ],
   "source": [
    "history_v3 = model_v3.fit(X_train, Y_train, validation_data=(X_val, Y_val), batch_size=512, epochs=100, callbacks=callbacks)"
   ]
  },
  {
   "cell_type": "markdown",
   "id": "zuNbk0a54Bbn",
   "metadata": {
    "id": "zuNbk0a54Bbn"
   },
   "source": [
    "**Plot history**"
   ]
  },
  {
   "cell_type": "code",
   "execution_count": 126,
   "id": "KhyRkuWyUEih",
   "metadata": {
    "colab": {
     "base_uri": "https://localhost:8080/",
     "height": 458
    },
    "id": "KhyRkuWyUEih",
    "outputId": "dd39957b-43f0-4d9c-a4c2-11d2a91361dd"
   },
   "outputs": [
    {
     "data": {
      "image/png": "[encoded data removed]",
      "text/plain": [
       "<Figure size 1080x504 with 2 Axes>"
      ]
     },
     "metadata": {
      "needs_background": "light"
     },
     "output_type": "display_data"
    }
   ],
   "source": [
    "plot_history(history_v3)"
   ]
  },
  {
   "cell_type": "markdown",
   "id": "-oFKN1a9WRAF",
   "metadata": {
    "id": "-oFKN1a9WRAF"
   },
   "source": [
    "# Evaluation"
   ]
  },
  {
   "cell_type": "code",
   "execution_count": 46,
   "id": "GQS5XoMZWSm8",
   "metadata": {
    "colab": {
     "base_uri": "https://localhost:8080/"
    },
    "id": "GQS5XoMZWSm8",
    "outputId": "bb72dc63-3947-4515-f924-7cc28602d533"
   },
   "outputs": [
    {
     "data": {
      "text/plain": [
       "{'nn': 1,\n",
       " 'in': 2,\n",
       " 'nnp': 3,\n",
       " 'dt': 4,\n",
       " 'nns': 5,\n",
       " 'jj': 6,\n",
       " ',': 7,\n",
       " '.': 8,\n",
       " 'cd': 9,\n",
       " 'vbd': 10,\n",
       " 'rb': 11,\n",
       " 'vb': 12,\n",
       " 'cc': 13,\n",
       " 'to': 14,\n",
       " 'vbn': 15,\n",
       " 'vbz': 16,\n",
       " 'prp': 17,\n",
       " 'vbg': 18,\n",
       " 'vbp': 19,\n",
       " 'md': 20,\n",
       " 'pos': 21,\n",
       " 'prp$': 22,\n",
       " '$': 23,\n",
       " '``': 24,\n",
       " \"''\": 25,\n",
       " ':': 26,\n",
       " 'wdt': 27,\n",
       " 'jjr': 28,\n",
       " 'nnps': 29,\n",
       " 'wp': 30,\n",
       " 'rp': 31,\n",
       " 'jjs': 32,\n",
       " 'wrb': 33,\n",
       " 'rbr': 34,\n",
       " '-rrb-': 35,\n",
       " '-lrb-': 36,\n",
       " 'ex': 37,\n",
       " 'rbs': 38,\n",
       " 'pdt': 39,\n",
       " '#': 40,\n",
       " 'wp$': 41,\n",
       " 'ls': 42,\n",
       " 'fw': 43,\n",
       " 'uh': 44,\n",
       " 'sym': 45}"
      ]
     },
     "execution_count": 46,
     "metadata": {},
     "output_type": "execute_result"
    }
   ],
   "source": [
    "label_tokenizer.word_index"
   ]
  },
  {
   "cell_type": "code",
   "execution_count": 47,
   "id": "c46vhE8xWV5o",
   "metadata": {
    "colab": {
     "base_uri": "https://localhost:8080/"
    },
    "id": "c46vhE8xWV5o",
    "outputId": "8f951982-2b18-47a5-95f0-9779b33297a7"
   },
   "outputs": [
    {
     "data": {
      "text/plain": [
       "[1,\n",
       " 2,\n",
       " 3,\n",
       " 4,\n",
       " 5,\n",
       " 6,\n",
       " 9,\n",
       " 10,\n",
       " 11,\n",
       " 12,\n",
       " 13,\n",
       " 14,\n",
       " 15,\n",
       " 16,\n",
       " 17,\n",
       " 18,\n",
       " 19,\n",
       " 20,\n",
       " 21,\n",
       " 22,\n",
       " 27,\n",
       " 28,\n",
       " 29,\n",
       " 30,\n",
       " 31,\n",
       " 32,\n",
       " 33,\n",
       " 34,\n",
       " 37,\n",
       " 38,\n",
       " 39,\n",
       " 41]"
      ]
     },
     "execution_count": 47,
     "metadata": {},
     "output_type": "execute_result"
    }
   ],
   "source": [
    "y_test_classes = [np.argmax(y, axis=-1) for y in Y_test]\n",
    "labels_to_consider = np.unique(y_test_classes)\n",
    "puntuaction_classes = [0,7,8,23,24,25,26,35,36,40,45]\n",
    "#puntuaction_classes = [0,1,2,3,4,5,6,7,8,45]\n",
    "classification_label = []\n",
    "for lb in labels_to_consider:\n",
    "    if not lb in puntuaction_classes:\n",
    "        classification_label.append(lb)\n",
    "        \n",
    "classification_label"
   ]
  },
  {
   "cell_type": "code",
   "execution_count": 48,
   "id": "IDh0EsQf23bl",
   "metadata": {
    "id": "IDh0EsQf23bl"
   },
   "outputs": [],
   "source": [
    "l = [el for el in classification_label]\n",
    "correct_labels = []\n",
    "for key, i in label_tokenizer.word_index.items():\n",
    "    if i in l:\n",
    "        correct_labels.append(key)"
   ]
  },
  {
   "cell_type": "code",
   "execution_count": 49,
   "id": "KcaOWzbku02K",
   "metadata": {
    "id": "KcaOWzbku02K"
   },
   "outputs": [],
   "source": [
    "Y_test_flatten = (np.concatenate(y_test_classes))"
   ]
  },
  {
   "cell_type": "code",
   "execution_count": 136,
   "id": "xzHicWZ53FEw",
   "metadata": {
    "id": "xzHicWZ53FEw"
   },
   "outputs": [],
   "source": [
    "import seaborn as sns\n",
    "from sklearn.metrics import confusion_matrix\n",
    "\n",
    "def print_classification_matrix(y_pred_flatten, normalize = None, values_format='g'):\n",
    "    #finally print the confusion matrix for the best model \n",
    "\n",
    "    cm = confusion_matrix(Y_test_flatten, y_pred_flatten, labels = classification_label, normalize = normalize)\n",
    "\n",
    "    plt.figure(figsize = (30,20))\n",
    "    ax= plt.subplot()\n",
    "    sns.heatmap(cm, annot=True, fmt=values_format, ax=ax); \n",
    "\n",
    "    ax.set_xlabel('Predicted labels')\n",
    "    ax.set_ylabel('True labels')\n",
    "    ax.set_title('Confusion Matrix')\n",
    "    ax.xaxis.set_ticklabels(correct_labels) \n",
    "    ax.yaxis.set_ticklabels(correct_labels);"
   ]
  },
  {
   "cell_type": "markdown",
   "id": "FaWGPlPQ2gAH",
   "metadata": {
    "id": "FaWGPlPQ2gAH"
   },
   "source": [
    "## Model Variation 2"
   ]
  },
  {
   "cell_type": "code",
   "execution_count": 71,
   "id": "CzI9Cx3W73gp",
   "metadata": {
    "colab": {
     "base_uri": "https://localhost:8080/"
    },
    "id": "CzI9Cx3W73gp",
    "outputId": "8e1db229-5cd5-42d1-a6bf-4419fba6d125"
   },
   "outputs": [
    {
     "name": "stdout",
     "output_type": "stream",
     "text": [
      "21/21 [==============================] - 2s 112ms/step - loss: 0.1996 - acc: 0.8559\n",
      "Loss: 0.19959460198879242,\n",
      "Accuracy: 0.8559021949768066\n"
     ]
    }
   ],
   "source": [
    "loss, accuracy = model_v2.evaluate(X_test, Y_test, verbose = 1)\n",
    "print(\"Loss: {0},\\nAccuracy: {1}\".format(loss, accuracy))"
   ]
  },
  {
   "cell_type": "code",
   "execution_count": 72,
   "id": "w3Mwk-Kj79-c",
   "metadata": {
    "colab": {
     "base_uri": "https://localhost:8080/"
    },
    "id": "w3Mwk-Kj79-c",
    "outputId": "c0344b05-9d51-403e-e0f0-da036ca6025b"
   },
   "outputs": [
    {
     "name": "stdout",
     "output_type": "stream",
     "text": [
      "21/21 [==============================] - 3s 131ms/step\n"
     ]
    }
   ],
   "source": [
    "Y_pred_v2 = np.argmax(model_v2.predict(X_test), axis = -1)"
   ]
  },
  {
   "cell_type": "code",
   "execution_count": 73,
   "id": "kxuPhQHUwajz",
   "metadata": {
    "id": "kxuPhQHUwajz"
   },
   "outputs": [],
   "source": [
    "Y_pred_flatten_v2 = Y_pred_v2.flatten()"
   ]
  },
  {
   "cell_type": "code",
   "execution_count": 74,
   "id": "-lIF-gWb8F1E",
   "metadata": {
    "colab": {
     "base_uri": "https://localhost:8080/"
    },
    "id": "-lIF-gWb8F1E",
    "outputId": "8404ca6e-ecbf-4786-dc41-5d0cea5044f2"
   },
   "outputs": [
    {
     "name": "stdout",
     "output_type": "stream",
     "text": [
      "              precision    recall  f1-score   support\n",
      "\n",
      "           1       0.82      0.77      0.79      2383\n",
      "           2       0.99      0.96      0.97      1630\n",
      "           3       0.76      0.71      0.74      1504\n",
      "           4       0.99      0.99      0.99      1335\n",
      "           5       0.66      0.78      0.71       941\n",
      "           6       0.59      0.76      0.66       918\n",
      "           9       0.95      0.84      0.89       858\n",
      "          10       0.89      0.83      0.86       634\n",
      "          11       0.75      0.75      0.75       381\n",
      "          12       0.84      0.95      0.89       403\n",
      "          13       1.00      1.00      1.00       366\n",
      "          14       1.00      1.00      1.00       386\n",
      "          15       0.70      0.68      0.69       366\n",
      "          16       0.86      0.86      0.86       280\n",
      "          17       0.99      0.98      0.99       192\n",
      "          18       0.65      0.56      0.60       221\n",
      "          19       0.81      0.78      0.79       134\n",
      "          20       0.97      1.00      0.99       167\n",
      "          21       0.99      1.00      1.00       152\n",
      "          22       1.00      1.00      1.00        99\n",
      "          27       0.89      1.00      0.94        84\n",
      "          28       0.80      0.73      0.76        59\n",
      "          29       0.20      0.02      0.04        44\n",
      "          30       1.00      1.00      1.00        20\n",
      "          31       0.50      0.85      0.63        33\n",
      "          32       0.66      0.61      0.63        31\n",
      "          33       0.96      0.96      0.96        24\n",
      "          34       0.44      0.47      0.45        15\n",
      "          37       0.83      1.00      0.91         5\n",
      "          38       0.33      0.33      0.33         3\n",
      "          39       0.00      0.00      0.00         4\n",
      "          41       1.00      0.50      0.67         4\n",
      "\n",
      "   micro avg       0.84      0.84      0.84     13676\n",
      "   macro avg       0.78      0.77      0.77     13676\n",
      "weighted avg       0.84      0.84      0.84     13676\n",
      "\n"
     ]
    }
   ],
   "source": [
    "report_test_v2 = classification_report(Y_test_flatten, Y_pred_flatten_v2, zero_division = 0, labels = classification_label)\n",
    "print(report_test_v2)"
   ]
  },
  {
   "cell_type": "code",
   "execution_count": 75,
   "id": "KPLdjOCmxIE0",
   "metadata": {
    "colab": {
     "base_uri": "https://localhost:8080/",
     "height": 768
    },
    "id": "KPLdjOCmxIE0",
    "outputId": "f75dabcb-e622-4ad1-c7cb-faa85165f169"
   },
   "outputs": [
    {
     "data": {
      "image/png": "[encoded data removed]",
      "text/plain": [
       "<Figure size 2160x1440 with 2 Axes>"
      ]
     },
     "metadata": {
      "needs_background": "light"
     },
     "output_type": "display_data"
    }
   ],
   "source": [
    "print_classification_matrix(Y_pred_flatten_v2)"
   ]
  },
  {
   "cell_type": "markdown",
   "id": "Hpy_GGW-3RWc",
   "metadata": {
    "id": "Hpy_GGW-3RWc"
   },
   "source": [
    "## Model Variation 3"
   ]
  },
  {
   "cell_type": "code",
   "execution_count": 104,
   "id": "zG4VF2sj3Qpp",
   "metadata": {
    "colab": {
     "base_uri": "https://localhost:8080/"
    },
    "id": "zG4VF2sj3Qpp",
    "outputId": "652595cd-9348-4f65-bfc1-023cf79bc058"
   },
   "outputs": [
    {
     "name": "stdout",
     "output_type": "stream",
     "text": [
      "21/21 [==============================] - 2s 73ms/step - loss: 0.2122 - acc: 0.8523\n",
      "Loss: 0.2122238725423813,\n",
      "Accuracy: 0.8522997498512268\n"
     ]
    }
   ],
   "source": [
    "loss, accuracy = model_v3.evaluate(X_test, Y_test, verbose = 1)\n",
    "print(\"Loss: {0},\\nAccuracy: {1}\".format(loss, accuracy))"
   ]
  },
  {
   "cell_type": "code",
   "execution_count": 127,
   "id": "Wfza53JGVeVR",
   "metadata": {
    "colab": {
     "base_uri": "https://localhost:8080/"
    },
    "id": "Wfza53JGVeVR",
    "outputId": "c2bbb1cc-b062-4879-cf55-23b20f6c3485"
   },
   "outputs": [
    {
     "name": "stdout",
     "output_type": "stream",
     "text": [
      "21/21 [==============================] - 4s 75ms/step\n"
     ]
    }
   ],
   "source": [
    "Y_pred_v3 = np.argmax(model_v3.predict(X_test), axis = -1)"
   ]
  },
  {
   "cell_type": "code",
   "execution_count": 128,
   "id": "-u9zV-PLTv10",
   "metadata": {
    "id": "-u9zV-PLTv10"
   },
   "outputs": [],
   "source": [
    "Y_pred_flatten_v3 = Y_pred_v3.flatten()"
   ]
  },
  {
   "cell_type": "code",
   "execution_count": 129,
   "id": "w0_XfUBkT0IW",
   "metadata": {
    "colab": {
     "base_uri": "https://localhost:8080/"
    },
    "id": "w0_XfUBkT0IW",
    "outputId": "49f00b5a-48aa-4d88-c563-e4c283c7a3e1"
   },
   "outputs": [
    {
     "name": "stdout",
     "output_type": "stream",
     "text": [
      "              precision    recall  f1-score   support\n",
      "\n",
      "           1       0.78      0.77      0.78      2383\n",
      "           2       0.98      0.95      0.97      1630\n",
      "           3       0.04      0.67      0.08      1504\n",
      "           4       0.98      0.99      0.99      1335\n",
      "           5       0.65      0.75      0.70       941\n",
      "           6       0.58      0.70      0.63       918\n",
      "           9       0.94      0.84      0.88       858\n",
      "          10       0.87      0.83      0.85       634\n",
      "          11       0.70      0.77      0.73       381\n",
      "          12       0.80      0.94      0.86       403\n",
      "          13       0.99      1.00      0.99       366\n",
      "          14       1.00      1.00      1.00       386\n",
      "          15       0.71      0.69      0.70       366\n",
      "          16       0.83      0.87      0.85       280\n",
      "          17       0.99      0.99      0.99       192\n",
      "          18       0.58      0.57      0.57       221\n",
      "          19       0.79      0.77      0.78       134\n",
      "          20       0.97      0.99      0.98       167\n",
      "          21       1.00      1.00      1.00       152\n",
      "          22       1.00      1.00      1.00        99\n",
      "          27       0.92      0.98      0.95        84\n",
      "          28       0.70      0.56      0.62        59\n",
      "          29       0.67      0.09      0.16        44\n",
      "          30       1.00      1.00      1.00        20\n",
      "          31       0.58      0.79      0.67        33\n",
      "          32       0.81      0.68      0.74        31\n",
      "          33       0.96      0.96      0.96        24\n",
      "          34       0.23      0.33      0.27        15\n",
      "          37       0.83      1.00      0.91         5\n",
      "          38       0.00      0.00      0.00         3\n",
      "          39       0.00      0.00      0.00         4\n",
      "          41       1.00      1.00      1.00         4\n",
      "\n",
      "   micro avg       0.30      0.83      0.44     13676\n",
      "   macro avg       0.75      0.76      0.74     13676\n",
      "weighted avg       0.75      0.83      0.75     13676\n",
      "\n"
     ]
    }
   ],
   "source": [
    "report_test_v3 = classification_report(Y_test_flatten, Y_pred_flatten_v3, zero_division = 0, labels = classification_label)\n",
    "print(report_test_v3)"
   ]
  },
  {
   "cell_type": "code",
   "execution_count": 139,
   "id": "jEntAwEXT4R9",
   "metadata": {
    "colab": {
     "base_uri": "https://localhost:8080/",
     "height": 786
    },
    "id": "jEntAwEXT4R9",
    "outputId": "1f7ea5e1-6e3d-4b76-d30c-c5272a9e59e1"
   },
   "outputs": [
    {
     "name": "stdout",
     "output_type": "stream",
     "text": [
      "CONFUSION MATRIX NOT NORMALIZED\n"
     ]
    },
    {
     "data": {
      "image/png": "[encoded data removed]",
      "text/plain": [
       "<Figure size 2160x1440 with 2 Axes>"
      ]
     },
     "metadata": {
      "needs_background": "light"
     },
     "output_type": "display_data"
    }
   ],
   "source": [
    "print_classification_matrix(Y_pred_flatten_v3)"
   ]
  },
  {
   "cell_type": "code",
   "execution_count": 140,
   "id": "F-R_78f81Z64",
   "metadata": {
    "colab": {
     "base_uri": "https://localhost:8080/",
     "height": 770
    },
    "id": "F-R_78f81Z64",
    "outputId": "7eccb01b-e7a7-4111-d369-1f0542929740"
   },
   "outputs": [
    {
     "data": {
      "image/png": "[encoded data removed]",
      "text/plain": [
       "<Figure size 2160x1440 with 2 Axes>"
      ]
     },
     "metadata": {
      "needs_background": "light"
     },
     "output_type": "display_data"
    }
   ],
   "source": [
    "# CONFUSION MATRIX NORMALIZED\n",
    "print_classification_matrix(Y_pred_flatten_v3, 'all', \".2f\")"
   ]
  }
 ],
 "metadata": {
  "colab": {
   "provenance": []
  },
  "kernelspec": {
   "display_name": "Python 3 (ipykernel)",
   "language": "python",
   "name": "python3"
  },
  "language_info": {
   "codemirror_mode": {
    "name": "ipython",
    "version": 3
   },
   "file_extension": ".py",
   "mimetype": "text/x-python",
   "name": "python",
   "nbconvert_exporter": "python",
   "pygments_lexer": "ipython3",
   "version": "3.9.12"
  }
 },
 "nbformat": 4,
 "nbformat_minor": 5
}
